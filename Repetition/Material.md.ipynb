{
  "cells": [
    {
      "metadata": {
        "collapsed": true
      },
      "cell_type": "markdown",
      "source": [
        "# Reading Tips for the assignment\n",
        "\n",
        "## General statistics\n",
        "\n",
        "* [Reddit for Datasets](https://www.reddit.com/r/datasets/)\n",
        "* [Google Search Engine for Datasets](https://datasetsearch.research.google.com)\n",
        "* [Datasets by fivethirtyeight](https://data.fivethirtyeight.com)\n",
        "* [Why Statistics Don’t Capture The Full Extent Of The Systemic Bias In Policing](https://fivethirtyeight.com/features/why-statistics-dont-capture-the-full-extent-of-the-systemic-bias-in-policing/?utm_source=digg)\n",
        "* **[Different statistical visualisations](https://datavisualiseworld.wordpress.com/posts/)**\n",
        "* **[The solar system](https://i.redd.it/wr1r93iv2he41.jpg)**\n",
        "* [PYPL PopularitY of Programming Language index](http://pypl.github.io/PYPL.html)\n",
        "* [Different Datasets intended for machine learning](https://www.openml.org/search?type=data)\n",
        "* [Stage of life / Math skills](https://i.redd.it/fyfmu7ewoqi41.jpg)\n",
        "* **[Data Grammar](https://www.behance.net/gallery/83894451/Catalogue-de-graphes-pour-dataviz-data-grammar)**\n",
        "* **[Information is beautiful](https://informationisbeautiful.net/beautifulnews/)**\n",
        "\n",
        "## Media stats\n",
        "\n",
        "* [Hard working Movie stars](https://resume.io/blog/worlds-hardest-working-hollywood-stars)\n",
        "* [Netflix Top10](https://top10.netflix.com)\n",
        "\n",
        "## Covid 19 related\n",
        "\n",
        "* [Florida reports record single-day spike in coronavirus cases - Axios](https://www.axios.com/florida-single-day-increase-coronavirus-cases-a6d5578b-527c-4be4-88e6-eb7289a7be97.html?utm_source=digg)\n",
        "* [This chart shows the link between restaurant spending and new cases of coronavirus](https://www.cnbc.com/2020/06/26/this-chart-shows-the-link-between-restaurant-spending-and-new-coronavirus-cases.html?utm_source=digg)\n",
        "* [covid-deaths/covid_analysis.ipynb at master · jawsem/covid-deaths · GitHub](https://github.com/jawsem/covid-deaths/blob/master/covid_analysis.ipynb)\n",
        "* [The Regional Distribution Of COVID-19 Cases In The US, Visualized](https://digg.com/2020/the-regional-distribution-of-covid-19-cases-in-the-us-visualized)\n",
        "* [How the Virus Won](https://www.nytimes.com/interactive/2020/us/coronavirus-spread.html?action=click&module=Spotlight&pgtype=Homepage?utm_source=digg)\n",
        "* [COVID-19 Infection Fatality Risk : statistics](https://www.reddit.com/r/statistics/comments/hgndu0/d_covid19_infection_fatality_risk/)\n",
        "* [COVID-19: Red States, Blue States](https://tamino.wordpress.com/2020/06/21/covid-19-red-states-blue-states/)\n",
        "* [Covid-19 cases per district in Germany / Stefan Reifenberg / Observable](https://observablehq.com/@stefanreifenberg/covid-19-cases-per-district-in-germany?collection=@observablehq/coronavirus)\n",
        "* [UK retail sales show the beginning of the post-COVID economic recovery through May 2020](https://i.redd.it/nu67s1gmqv751.png)\n",
        "* [Weekly new Covid-19 cases in Europe](https://docs.google.com/spreadsheets/d/e/2PACX-1vTU3DCePS-m3DTxYtMIeymYsWX5ZZBQeXnSuwEeTpBoLH6rwGyBzHhnUqIL1GynnKyrGqV6HIt7aI7M/pubchart?oid=580361556&format=interactive)\n",
        "\n",
        "## Other health related\n",
        "\n",
        "* [1918 Spanish Flu Pandemic in Data and Charts — DataViz Weekly](https://www.anychart.com/blog/2020/04/17/spanish-flu-data-charts/)\n",
        "* [The Cost of Addiction: The Real Price You Pay for Drugs and Alcohol](https://www.detox.net/uncover/cost-addiction-drugs-alcohol/)\n",
        "* [d46q8cf4ame31.jpg 1.939×1.482 Pixel](https://i.redd.it/d46q8cf4ame31.jpg)\n",
        "\n",
        "## Pokemon\n",
        "\n",
        "* **[Co-occurrence of Pokemon Types (Gen 1-6) with Chord Diagrams](https://shahinrostami.com/posts/statistics/data-is-beautiful/co-occurrence-of-pokemon-types-with-chord-diagrams/#The-Dataset)**\n",
        "* [Different Pokemon Go statistics](https://www.businessofapps.com/data/pokemon-go-statistics/)\n",
        " \n",
        "## Sports\n",
        " \n",
        "* [API-Football - All our pricing plans](https://www.api-football.com/pricing)\n",
        "* [Goal Comparison](https://streamja.com/1Jgd)\n",
        "* [Shapes of Cricket Stadiums](https://www.bbc.co.uk/sport/extra/vjVnELf6Ih/shapes_cricket_stadiums)\n",
        "* [Chord Diagram Olympic medals](https://shahinrostami.com/posts/statistics/data-is-beautiful/top-olympic-medal-earning-countries/)\n",
        " \n",
        "## Business\n",
        " \n",
        "* [Revenue Streams of the biggest companies](https://i.redd.it/1zz3wzx1az701.jpg)\n",
        "* [The Oldest Restaurant In (Almost) Every Country](https://www.netcredit.com/blog/oldest-restaurant-in-every-country/)\n",
        "* [Vacation Days per Country](https://cdn.digg.com/wp-content/uploads/2022/11/18132455/vacation-days-countries-world.png)\n",
        " \n",
        " \n",
        " ## Funny\n",
        " \n",
        "* [7oy9k33ifij41.jpg 828×467 Pixel](https://i.redd.it/7oy9k33ifij41.jpg)\n",
        "* [oa5gyhjre7h31.jpg 3.547×3.547 Pixel](https://i.redd.it/oa5gyhjre7h31.jpg)\n",
        "* [gmaovzp9cxa31.jpg 1.125×947 Pixel](https://i.redd.it/gmaovzp9cxa31.jpg)\n",
        "* [sbrpx4e8y1e01.jpg 1.024×768 Pixel](https://i.redd.it/sbrpx4e8y1e01.jpg)\n",
        "\n",
        "\n",
        "\n",
        "\n",
        "\n",
        "\n",
        "\n",
        "\n",
        "\n",
        "\n",
        "\n",
        "\n",
        "\n",
        "\n",
        "\n",
        "\n"
      ]
    }
  ],
  "metadata": {
    "kernelspec": {
      "name": "python36",
      "display_name": "Python 3.6",
      "language": "python"
    },
    "language_info": {
      "mimetype": "text/x-python",
      "nbconvert_exporter": "python",
      "name": "python",
      "pygments_lexer": "ipython3",
      "version": "3.6.6",
      "file_extension": ".py",
      "codemirror_mode": {
        "version": 3,
        "name": "ipython"
      }
    },
    "varInspector": {
      "window_display": false,
      "cols": {
        "lenName": 16,
        "lenType": 16,
        "lenVar": 40
      },
      "kernels_config": {
        "python": {
          "library": "var_list.py",
          "delete_cmd_prefix": "del ",
          "delete_cmd_postfix": "",
          "varRefreshCmd": "print(var_dic_list())"
        },
        "r": {
          "library": "var_list.r",
          "delete_cmd_prefix": "rm(",
          "delete_cmd_postfix": ") ",
          "varRefreshCmd": "cat(var_dic_list()) "
        }
      },
      "types_to_exclude": [
        "module",
        "function",
        "builtin_function_or_method",
        "instance",
        "_Feature"
      ]
    }
  },
  "nbformat": 4,
  "nbformat_minor": 2
}