{
  "cells": [
    {
      "metadata": {},
      "cell_type": "markdown",
      "source": [
        "# Initialization Code\n",
        "This code can be ignored"
      ]
    },
    {
      "metadata": {
        "trusted": true
      },
      "cell_type": "code",
      "source": [
        "import numpy as np\n",
        "import matplotlib.pyplot as plt\n",
        "import math\n",
        "from ipywidgets import interact\n",
        "import ipywidgets as widgets\n",
        "import random\n",
        "import timeit\n",
        "import time\n",
        "from datetime import datetime\n",
        "%matplotlib widget\n",
        "def plot(xstart = 0.0, xend = 2.0):\n",
        "    x = np.arange(xstart,xend,0.01)\n",
        "    f2 = np.vectorize(f)\n",
        "    y = f2(x)\n",
        "    plt.plot(x,y)"
      ],
      "execution_count": 1,
      "outputs": []
    },
    {
      "metadata": {},
      "cell_type": "markdown",
      "source": [
        "# Simple function call\n",
        "print is a simple function which takes parameters and returns nothing."
      ]
    },
    {
      "metadata": {
        "trusted": true,
        "tags": []
      },
      "cell_type": "code",
      "source": [
        "print (\"Hello World\")"
      ],
      "execution_count": 2,
      "outputs": [
        {
          "output_type": "stream",
          "name": "stdout",
          "text": "Hello World\n"
        }
      ]
    },
    {
      "metadata": {},
      "cell_type": "markdown",
      "source": [
        "# Function calls with parameters\n",
        "\n",
        "## No parameters\n",
        "If a function has no parameters, normally it's return value is relevant, or it has a side effect. A side effect here is, that it changes the state of some different thing. An example could be `sys.exit()` which stops the current program. [SideEffects](https://runestone.academy/runestone/books/published/fopp/Functions/SideEffects.html)\n",
        "\n",
        "\n"
      ]
    },
    {
      "cell_type": "code",
      "execution_count": 18,
      "metadata": {
        "tags": []
      },
      "outputs": [
        {
          "output_type": "stream",
          "name": "stdout",
          "text": "HelloHello\n"
        }
      ],
      "source": [
        "s = input()\n",
        "print (2*s)"
      ]
    },
    {
      "cell_type": "markdown",
      "metadata": {},
      "source": [
        "## One parameter\n",
        "When you call a function with parameters, you put those inside brakets (Like you already did with `print`). One example is the function `time.sleep` which lets python wait for a number of seconds."
      ]
    },
    {
      "cell_type": "code",
      "execution_count": 20,
      "metadata": {
        "tags": []
      },
      "outputs": [
        {
          "output_type": "stream",
          "name": "stdout",
          "text": "Wait for it\nParty!\n"
        }
      ],
      "source": [
        "print (\"Wait for it\")\n",
        "time.sleep(1)\n",
        "print (\"Party!\")"
      ]
    },
    {
      "cell_type": "markdown",
      "metadata": {},
      "source": [
        "## Two parameters\n",
        "\n",
        "`pow` is a function which takes two parameters and returns one value ($x ^ y$). Similar functions with two parameters: `complex`, `max`, `min`. [Documentation for functions](https://docs.python.org/3/library/functions.html)"
      ]
    },
    {
      "metadata": {
        "trusted": true,
        "tags": []
      },
      "cell_type": "code",
      "source": [
        "print (pow(5,4))"
      ],
      "execution_count": 22,
      "outputs": [
        {
          "output_type": "stream",
          "name": "stdout",
          "text": "625\n"
        }
      ]
    },
    {
      "cell_type": "markdown",
      "metadata": {},
      "source": [
        "## Nesting Function Calls\n",
        "You are able to nest function calls. This means, that the result of one function is the parameter of the next function. In math this corresponds to e.g. $sin(x)^2$, or you can imagine the russian dolls (matryoshka)."
      ]
    },
    {
      "cell_type": "code",
      "execution_count": 24,
      "metadata": {
        "tags": []
      },
      "outputs": [
        {
          "output_type": "stream",
          "name": "stdout",
          "text": "-625\n"
        }
      ],
      "source": [
        "print (pow(5,3)*-5)"
      ]
    },
    {
      "cell_type": "markdown",
      "metadata": {},
      "source": [
        "## Exercise\n",
        "1. Test the functions abs, ascii, hex, min, max and round. For this, copy the following line, and test out different values.\n",
        "2. How would you print out the first 20 squares without programming every line? Add this code below all of the other lines."
      ]
    },
    {
      "cell_type": "code",
      "execution_count": 7,
      "metadata": {
        "tags": []
      },
      "outputs": [
        {
          "output_type": "stream",
          "name": "stdout",
          "text": "Square of 1 1 Square of 2 4\n"
        }
      ],
      "source": [
        "print (\"Square of 1\", pow(1,2), \"Square of 2\", pow(2,2))\n",
        "print (\"Absolut of 1\", abs(1), \"Square of -1\", abs(-1))"
      ]
    },
    {
      "cell_type": "markdown",
      "metadata": {},
      "source": [
        "# The Math Object\n",
        "You can access more functions using the math object. [Documentation for math](https://docs.python.org/3/library/math.html)\n",
        "\n",
        "## Exercise\n",
        "1. Test out `math.trunc`, `math.exp`, `math.sqrt`, `math.sin` and `math.radians`.\n",
        "2. Nest the function calls of `math.sin` and `math.radians` to calulate the sine of 90°. Save the result to a variable called 'sineResult' and print it.\n",
        "3. Use a `for` loop to calculate the cosine values of 0°, 90°, 180° and 360°. If unsure have a look at the loops examples. Format using '\\t'."
      ]
    },
    {
      "cell_type": "code",
      "execution_count": 8,
      "metadata": {
        "tags": []
      },
      "outputs": [
        {
          "output_type": "stream",
          "name": "stdout",
          "text": "24\n"
        }
      ],
      "source": [
        "print (math.factorial(4))"
      ]
    },
    {
      "cell_type": "markdown",
      "metadata": {},
      "source": [
        "# The random Object\n",
        "Using the random object (https://docs.python.org/3/library/random.html) you can incorporate random values into your program. `random.random()` returns a numer in the range of $[0,1[$, `random.uniform(a,b)` has the limits of a and b."
      ]
    },
    {
      "cell_type": "code",
      "execution_count": 9,
      "metadata": {
        "tags": []
      },
      "outputs": [
        {
          "output_type": "stream",
          "name": "stdout",
          "text": "0.07026721091221755\n9.021372747754985\n"
        }
      ],
      "source": [
        "print (random.random())\n",
        "print (random.uniform(5,10))"
      ]
    },
    {
      "cell_type": "markdown",
      "metadata": {},
      "source": [
        "# The datetime Object & Call Chaining\n",
        "Using the datetime Object you can manipulate dates and times in python. Just be sure not to mess with the space time continuum. [Documentation](https://docs.python.org/3/library/datetime.html)\n",
        "\n",
        "If the result of a function call itself provides functions, you can chain these calls (line 2 ff).\n",
        "\n",
        "## Exercise\n",
        "Put all of this code below the code block.\n",
        "\n",
        "1. Create a variable `breakfastBirthday` for the day of your next birthday at 08:45\n",
        "2. Output how long you have to wait until your breakfast on your birthday.\n",
        "3. Use a for loop to print the time remaining and wait a second. Run the loop 10 times."
      ]
    },
    {
      "cell_type": "code",
      "execution_count": 25,
      "metadata": {
        "tags": []
      },
      "outputs": [
        {
          "output_type": "stream",
          "name": "stdout",
          "text": "2023-11-10 15:40:01.019054\n2023-11-10\n10\n2023-12-31 23:59:59.019940\nTime remaining:  51 days, 8:19:57.999339\n"
        }
      ],
      "source": [
        "print (datetime.now())\n",
        "print (datetime.now().date())\n",
        "print (datetime.now().date().day)\n",
        "duedate = datetime.now().replace(month=12,day=31, hour=23, minute=59, second=59)\n",
        "print (duedate)\n",
        "print (\"Time remaining: \", duedate-datetime.now())"
      ]
    },
    {
      "metadata": {},
      "cell_type": "markdown",
      "source": [
        "# Interactive functions\n",
        "Interactive functions\n",
        "The `math` object contains more functions you can use for your calculations. Here you find e.g. trigonometric functions. The `interact` function executes another function and shows all of the parameters as input controls (e.g. sliders)."
      ]
    },
    {
      "metadata": {
        "trusted": true
      },
      "cell_type": "code",
      "source": [
        "def f(x):\n",
        "    return abs(math.sin(x))\n",
        "interact(plot)"
      ],
      "execution_count": 26,
      "outputs": [
        {
          "output_type": "execute_result",
          "data": {
            "text/plain": "<function __main__.plot(xstart=0.0, xend=2.0)>"
          },
          "metadata": {},
          "execution_count": 26
        }
      ]
    },
    {
      "metadata": {},
      "cell_type": "markdown",
      "source": [
        "# Recursive functions\n",
        "Recursive functions are functions which call themselves. So ideally you have a starting point with a simple result, and a way to break down a complicated calculation to a more simple one. The factorial of n is $1 * 2 * ... * n$. In mathematics it is written as $ n! $."
      ]
    },
    {
      "metadata": {
        "trusted": true
      },
      "cell_type": "code",
      "source": [
        "def fac(x):\n",
        "    # Faculty for 0 is defined as 1\n",
        "    if (x == 0):\n",
        "        return 1\n",
        "    else:\n",
        "    # Faculty for x is x*fac(x-1)\n",
        "        return fac(x-1)*x\n",
        "\n",
        "fac(5)    \n",
        "#fac(100000)"
      ],
      "execution_count": 29,
      "outputs": [
        {
          "output_type": "error",
          "ename": "RecursionError",
          "evalue": "maximum recursion depth exceeded in comparison",
          "traceback": [
            "\u001b[0;31m---------------------------------------------------------------------------\u001b[0m",
            "\u001b[0;31mRecursionError\u001b[0m                            Traceback (most recent call last)",
            "\u001b[0;32m<ipython-input-29-514349a375bb>\u001b[0m in \u001b[0;36m<module>\u001b[0;34m\u001b[0m\n\u001b[1;32m      6\u001b[0m \u001b[0;34m\u001b[0m\u001b[0m\n\u001b[1;32m      7\u001b[0m \u001b[0;31m#fac(6)\u001b[0m\u001b[0;34m\u001b[0m\u001b[0;34m\u001b[0m\u001b[0;34m\u001b[0m\u001b[0m\n\u001b[0;32m----> 8\u001b[0;31m \u001b[0mfac\u001b[0m\u001b[0;34m(\u001b[0m\u001b[0;36m100000\u001b[0m\u001b[0;34m)\u001b[0m\u001b[0;34m\u001b[0m\u001b[0;34m\u001b[0m\u001b[0m\n\u001b[0m",
            "\u001b[0;32m<ipython-input-29-514349a375bb>\u001b[0m in \u001b[0;36mfac\u001b[0;34m(x)\u001b[0m\n\u001b[1;32m      3\u001b[0m         \u001b[0;32mreturn\u001b[0m \u001b[0;36m1\u001b[0m\u001b[0;34m\u001b[0m\u001b[0;34m\u001b[0m\u001b[0m\n\u001b[1;32m      4\u001b[0m     \u001b[0;32melse\u001b[0m\u001b[0;34m:\u001b[0m\u001b[0;34m\u001b[0m\u001b[0;34m\u001b[0m\u001b[0m\n\u001b[0;32m----> 5\u001b[0;31m         \u001b[0;32mreturn\u001b[0m \u001b[0mfac\u001b[0m\u001b[0;34m(\u001b[0m\u001b[0mx\u001b[0m\u001b[0;34m-\u001b[0m\u001b[0;36m1\u001b[0m\u001b[0;34m)\u001b[0m\u001b[0;34m*\u001b[0m\u001b[0mx\u001b[0m\u001b[0;34m\u001b[0m\u001b[0;34m\u001b[0m\u001b[0m\n\u001b[0m\u001b[1;32m      6\u001b[0m \u001b[0;34m\u001b[0m\u001b[0m\n\u001b[1;32m      7\u001b[0m \u001b[0;31m#fac(6)\u001b[0m\u001b[0;34m\u001b[0m\u001b[0;34m\u001b[0m\u001b[0;34m\u001b[0m\u001b[0m\n",
            "... last 1 frames repeated, from the frame below ...\n",
            "\u001b[0;32m<ipython-input-29-514349a375bb>\u001b[0m in \u001b[0;36mfac\u001b[0;34m(x)\u001b[0m\n\u001b[1;32m      3\u001b[0m         \u001b[0;32mreturn\u001b[0m \u001b[0;36m1\u001b[0m\u001b[0;34m\u001b[0m\u001b[0;34m\u001b[0m\u001b[0m\n\u001b[1;32m      4\u001b[0m     \u001b[0;32melse\u001b[0m\u001b[0;34m:\u001b[0m\u001b[0;34m\u001b[0m\u001b[0;34m\u001b[0m\u001b[0m\n\u001b[0;32m----> 5\u001b[0;31m         \u001b[0;32mreturn\u001b[0m \u001b[0mfac\u001b[0m\u001b[0;34m(\u001b[0m\u001b[0mx\u001b[0m\u001b[0;34m-\u001b[0m\u001b[0;36m1\u001b[0m\u001b[0;34m)\u001b[0m\u001b[0;34m*\u001b[0m\u001b[0mx\u001b[0m\u001b[0;34m\u001b[0m\u001b[0;34m\u001b[0m\u001b[0m\n\u001b[0m\u001b[1;32m      6\u001b[0m \u001b[0;34m\u001b[0m\u001b[0m\n\u001b[1;32m      7\u001b[0m \u001b[0;31m#fac(6)\u001b[0m\u001b[0;34m\u001b[0m\u001b[0;34m\u001b[0m\u001b[0;34m\u001b[0m\u001b[0m\n",
            "\u001b[0;31mRecursionError\u001b[0m: maximum recursion depth exceeded in comparison"
          ]
        }
      ]
    },
    {
      "metadata": {},
      "cell_type": "markdown",
      "source": [
        "# List functions\n",
        "List functions\n",
        "Examples for functions `len`, `sorted`. Random is an object which provides you with different methods concerning random numbers, values and so on."
      ]
    },
    {
      "metadata": {
        "trusted": true
      },
      "cell_type": "code",
      "source": [
        "def lotto():\n",
        "        numbers = []\n",
        "        while (len(numbers) < 6):\n",
        "            newNumber = random.randint(1,46)\n",
        "            if (newNumber not in numbers):\n",
        "                numbers.append(newNumber)\n",
        "        return sorted(numbers)\n",
        "            \n",
        "lotto()"
      ],
      "execution_count": 33,
      "outputs": [
        {
          "output_type": "execute_result",
          "data": {
            "text/plain": "[16, 18, 21, 31, 33, 41]"
          },
          "metadata": {},
          "execution_count": 33
        }
      ]
    },
    {
      "metadata": {},
      "cell_type": "markdown",
      "source": [
        "## Different implementation\n",
        "`random.choices` chooses `k` elements of the range. `sorted` works same as above."
      ]
    },
    {
      "metadata": {
        "trusted": true
      },
      "cell_type": "code",
      "source": [
        "def lottoAlt():\n",
        "    numbers = random.choices(range(46),k=6)\n",
        "    return (sorted(numbers))\n",
        "lottoAlt()"
      ],
      "execution_count": 14,
      "outputs": [
        {
          "output_type": "execute_result",
          "data": {
            "text/plain": "[10, 15, 21, 22, 41, 43]"
          },
          "metadata": {},
          "execution_count": 14
        }
      ]
    },
    {
      "metadata": {},
      "cell_type": "markdown",
      "source": [
        "## Different implementation 2\n",
        "`list()` makes the range changeable\n",
        "`random.shuffle` shuffles the elements of `numbers`\n",
        "`numbers[:6]` cuts off all the elements after the 6."
      ]
    },
    {
      "metadata": {
        "trusted": true
      },
      "cell_type": "code",
      "source": [
        "def lottoAlt2():\n",
        "    numbers = list(range(46))\n",
        "    random.shuffle(numbers)\n",
        "    numbersResult = numbers[:6]\n",
        "    return (sorted(numbersResult))\n",
        "lottoAlt2()"
      ],
      "execution_count": 15,
      "outputs": [
        {
          "output_type": "execute_result",
          "data": {
            "text/plain": "[0, 12, 15, 19, 22, 24]"
          },
          "metadata": {},
          "execution_count": 15
        }
      ]
    },
    {
      "metadata": {},
      "cell_type": "markdown",
      "source": [
        "## Different implementation 3\n",
        "Precache the generation of the 46 numbers. Possible performance win?"
      ]
    },
    {
      "metadata": {
        "trusted": true
      },
      "cell_type": "code",
      "source": [
        "numbers46 = range(46)\n",
        "def lottoAlt3():\n",
        "    numbers = list(numbers46)\n",
        "    random.shuffle(numbers)\n",
        "    numbersResult= numbers[:6]\n",
        "    return (sorted(numbersResult))\n",
        "lottoAlt3()"
      ],
      "execution_count": 16,
      "outputs": [
        {
          "output_type": "execute_result",
          "data": {
            "text/plain": "[0, 18, 24, 37, 38, 40]"
          },
          "metadata": {},
          "execution_count": 16
        }
      ]
    },
    {
      "cell_type": "code",
      "execution_count": 17,
      "metadata": {},
      "outputs": [
        {
          "output_type": "execute_result",
          "data": {
            "text/plain": "(8.478883568999997, 3.020035124000003, 28.067405502999996, 27.61981259000001)"
          },
          "metadata": {},
          "execution_count": 17
        }
      ],
      "source": [
        "timeit.timeit(lotto),timeit.timeit(lottoAlt),timeit.timeit(lottoAlt2),timeit.timeit(lottoAlt3)"
      ]
    },
    {
      "cell_type": "markdown",
      "metadata": {},
      "source": [
        "# Video Material\n",
        "|Link|Duration|\n",
        "|----|-----|\n",
        "|[Linkedin Learing Functions](https://www.linkedin.com/learning-login/share?account=47996500&forceAccount=false&redirect=https%3A%2F%2Fwww.linkedin.com%2Flearning%2Flearning-python-14393370%2Fpython-functions%3Ftrk%3Dshare_video_url%26shareId%3D%252B5OiX3JJSJqOdNB2%252BytgFg%253D%253D)|11:52|\n",
        "|[Corey Schafer: Functions](https://www.youtube.com/watch?v=9Os0o3wzS_I)|21:47|\n",
        "\n"
      ]
    }
  ],
  "metadata": {
    "kernelspec": {
      "name": "python3",
      "display_name": "Python 3",
      "language": "python"
    },
    "language_info": {
      "mimetype": "text/x-python",
      "nbconvert_exporter": "python",
      "name": "python",
      "pygments_lexer": "ipython3",
      "version": "3.7.6-final",
      "file_extension": ".py",
      "codemirror_mode": {
        "version": 3,
        "name": "ipython"
      }
    }
  },
  "nbformat": 4,
  "nbformat_minor": 2
}