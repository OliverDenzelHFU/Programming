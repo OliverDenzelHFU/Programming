{
  "cells": [
    {
      "metadata": {
        "trusted": true
      },
      "cell_type": "code",
      "source": [
        "%run Init.ipynb\n",
        "%run CheckObject.py\n",
        "\n",
        "from ipywidgets import Button,Textarea,VBox\n",
        "import csv\n",
        "import math\n",
        "from IPython.display import Markdown\n",
        "b = Button(description=\"Grade\")\n",
        "t = Textarea()\n",
        "def click(b):\n",
        "    if (\"cellObject\" in globals()):\n",
        "        grade(b, cellObject,t)\n",
        "    else:\n",
        "        t.value = \"Please execute your cell first\"\n",
        "b.on_click(click)\n",
        "h = VBox([b,t])\n",
        "h"
      ],
      "execution_count": 1,
      "outputs": [
        {
          "output_type": "display_data",
          "data": {
            "text/plain": "VBox(children=(Button(description='Grade', style=ButtonStyle()), Textarea(value='')))",
            "application/vnd.jupyter.widget-view+json": {
              "version_major": 2,
              "version_minor": 0,
              "model_id": "4d23ff75fb824fe29911801d50d84bd4"
            }
          },
          "metadata": {}
        }
      ]
    },
    {
      "metadata": {},
      "cell_type": "markdown",
      "source": [
        "# Define your own class\n",
        "Repetition: A class can store different values (=> attributes) and methods for each member (=> object) of the class.\n",
        "\n",
        "In our example it means, that every pokemon has a name that is unique for this kind of pokemon. This means, that pikachu is an object of the class pokemon.\n",
        "\n",
        "It is also possible to store information on the class itself. In our example this is the pokedex, which is a list of all the pokemons which are known. This is information which is not special for one pokemon (=> object), but is common for all objects of the class pokemon.\n",
        "\n",
        "All of the values, which are returned by the ```csv.reader``` are of the class ```str```. In this example there is a conversion for the hp attribute to ```int```. Only when we use this, we can calculate with the values in the hp attribute."
      ]
    },
    {
      "metadata": {
        "trusted": true
      },
      "cell_type": "code",
      "source": [
        "class pokemon:\n",
        "    pokedex = []\n",
        "    def __init__(self, name, total, type, hp, attack, defense, generation):\n",
        "        self.name = name\n",
        "        self.type= type\n",
        "        self.total = total\n",
        "        self.hp=int(hp)\n",
        "        self.attack=int(attack)\n",
        "        self.defense=int(defense)\n",
        "        self.generation=generation\n",
        "        self.pokedex.append(self)\n",
        "        \n",
        "    def __repr__(self):\n",
        "        return \"Pokemon: \" + self.name + \" Type: \" + self.type + \" Generation: \" + self.generation\n",
        "    def color(self):\n",
        "        switcher = {\n",
        "            'Fire':'red',\n",
        "            'Grass':'green',\n",
        "            'Bug':'green',\n",
        "            'Ice':'blue',\n",
        "            'Water':'blue',\n",
        "            'Normal':'grey',\n",
        "            'Electric':'yellow',\n",
        "            'Ground':'brown',\n",
        "            'Poison':'green',\n",
        "            'Fairy':'blue',\n",
        "            'Fighting':'yellow',\n",
        "            'Dark':'grey',\n",
        "            'Psychic':'grey',\n",
        "            'Rock':'grey',\n",
        "            'Ghost':'white',\n",
        "            'Dragon':'blue'\n",
        "        }\n",
        "        return switcher[self.type]\n",
        "\n"
      ],
      "execution_count": 2,
      "outputs": []
    },
    {
      "metadata": {},
      "cell_type": "markdown",
      "source": [
        "## Build your pokedex\n",
        "To read information from a file, you can use the method (```open``` file, skip header and use ```csv.reader```) we saw last time. If you call ```pokemon()``` by convention in python the method ```__init__```is called."
      ]
    },
    {
      "metadata": {
        "trusted": true
      },
      "cell_type": "code",
      "source": [
        "with open('pokemon.csv', 'r') as csvfile:\n",
        "    rows = csv.reader(csvfile, delimiter=',', quotechar='\"')\n",
        "    #Skip Header line\n",
        "    next(rows)\n",
        "    for row in rows:\n",
        "        pokemon(name=row[1], type=row[2], total = row[4], hp=row[5], attack=row[6], defense=row[7], generation=row[11])\n",
        "pokemon.pokedex"
      ],
      "execution_count": 3,
      "outputs": [
        {
          "output_type": "execute_result",
          "data": {
            "text/plain": " Rock Generation: 3,\n Pokemon: Anorith Type: Rock Generation: 3,\n Pokemon: Armaldo Type: Rock Generation: 3,\n Pokemon: Feebas Type: Water Generation: 3,\n Pokemon: Milotic Type: Water Generation: 3,\n Pokemon: Castform Type: Normal Generation: 3,\n Pokemon: Kecleon Type: Normal Generation: 3,\n Pokemon: Shuppet Type: Ghost Generation: 3,\n Pokemon: Banette Type: Ghost Generation: 3,\n Pokemon: BanetteMega Banette Type: Ghost Generation: 3,\n Pokemon: Duskull Type: Ghost Generation: 3,\n Pokemon: Dusclops Type: Ghost Generation: 3,\n Pokemon: Tropius Type: Grass Generation: 3,\n Pokemon: Chimecho Type: Psychic Generation: 3,\n Pokemon: Absol Type: Dark Generation: 3,\n Pokemon: AbsolMega Absol Type: Dark Generation: 3,\n Pokemon: Wynaut Type: Psychic Generation: 3,\n Pokemon: Snorunt Type: Ice Generation: 3,\n Pokemon: Glalie Type: Ice Generation: 3,\n Pokemon: GlalieMega Glalie Type: Ice Generation: 3,\n Pokemon: Spheal Type: Ice Generation: 3,\n Pokemon: Sealeo Type: Ice Generation: 3,\n Pokemon: Walrein Type: Ice Generation: 3,\n Pokemon: Clamperl Type: Water Generation: 3,\n Pokemon: Huntail Type: Water Generation: 3,\n Pokemon: Gorebyss Type: Water Generation: 3,\n Pokemon: Relicanth Type: Water Generation: 3,\n Pokemon: Luvdisc Type: Water Generation: 3,\n Pokemon: Bagon Type: Dragon Generation: 3,\n Pokemon: Shelgon Type: Dragon Generation: 3,\n Pokemon: Salamence Type: Dragon Generation: 3,\n Pokemon: SalamenceMega Salamence Type: Dragon Generation: 3,\n Pokemon: Beldum Type: Steel Generation: 3,\n Pokemon: Metang Type: Steel Generation: 3,\n Pokemon: Metagross Type: Steel Generation: 3,\n Pokemon: MetagrossMega Metagross Type: Steel Generation: 3,\n Pokemon: Regirock Type: Rock Generation: 3,\n Pokemon: Regice Type: Ice Generation: 3,\n Pokemon: Registeel Type: Steel Generation: 3,\n Pokemon: Latias Type: Dragon Generation: 3,\n Pokemon: LatiasMega Latias Type: Dragon Generation: 3,\n Pokemon: Latios Type: Dragon Generation: 3,\n Pokemon: LatiosMega Latios Type: Dragon Generation: 3,\n Pokemon: Kyogre Type: Water Generation: 3,\n Pokemon: KyogrePrimal Kyogre Type: Water Generation: 3,\n Pokemon: Groudon Type: Ground Generation: 3,\n Pokemon: GroudonPrimal Groudon Type: Ground Generation: 3,\n Pokemon: Rayquaza Type: Dragon Generation: 3,\n Pokemon: RayquazaMega Rayquaza Type: Dragon Generation: 3,\n Pokemon: Jirachi Type: Steel Generation: 3,\n Pokemon: DeoxysNormal Forme Type: Psychic Generation: 3,\n Pokemon: DeoxysAttack Forme Type: Psychic Generation: 3,\n Pokemon: DeoxysDefense Forme Type: Psychic Generation: 3,\n Pokemon: DeoxysSpeed Forme Type: Psychic Generation: 3,\n Pokemon: Turtwig Type: Grass Generation: 4,\n Pokemon: Grotle Type: Grass Generation: 4,\n Pokemon: Torterra Type: Grass Generation: 4,\n Pokemon: Chimchar Type: Fire Generation: 4,\n Pokemon: Monferno Type: Fire Generation: 4,\n Pokemon: Infernape Type: Fire Generation: 4,\n Pokemon: Piplup Type: Water Generation: 4,\n Pokemon: Prinplup Type: Water Generation: 4,\n Pokemon: Empoleon Type: Water Generation: 4,\n Pokemon: Starly Type: Normal Generation: 4,\n Pokemon: Staravia Type: Normal Generation: 4,\n Pokemon: Staraptor Type: Normal Generation: 4,\n Pokemon: Bidoof Type: Normal Generation: 4,\n Pokemon: Bibarel Type: Normal Generation: 4,\n Pokemon: Kricketot Type: Bug Generation: 4,\n Pokemon: Kricketune Type: Bug Generation: 4,\n Pokemon: Shinx Type: Electric Generation: 4,\n Pokemon: Luxio Type: Electric Generation: 4,\n Pokemon: Luxray Type: Electric Generation: 4,\n Pokemon: Budew Type: Grass Generation: 4,\n Pokemon: Roserade Type: Grass Generation: 4,\n Pokemon: Cranidos Type: Rock Generation: 4,\n Pokemon: Rampardos Type: Rock Generation: 4,\n Pokemon: Shieldon Type: Rock Generation: 4,\n Pokemon: Bastiodon Type: Rock Generation: 4,\n Pokemon: Burmy Type: Bug Generation: 4,\n Pokemon: WormadamPlant Cloak Type: Bug Generation: 4,\n Pokemon: WormadamSandy Cloak Type: Bug Generation: 4,\n Pokemon: WormadamTrash Cloak Type: Bug Generation: 4,\n Pokemon: Mothim Type: Bug Generation: 4,\n Pokemon: Combee Type: Bug Generation: 4,\n Pokemon: Vespiquen Type: Bug Generation: 4,\n Pokemon: Pachirisu Type: Electric Generation: 4,\n Pokemon: Buizel Type: Water Generation: 4,\n Pokemon: Floatzel Type: Water Generation: 4,\n Pokemon: Cherubi Type: Grass Generation: 4,\n Pokemon: Cherrim Type: Grass Generation: 4,\n Pokemon: Shellos Type: Water Generation: 4,\n Pokemon: Gastrodon Type: Water Generation: 4,\n Pokemon: Ambipom Type: Normal Generation: 4,\n Pokemon: Drifloon Type: Ghost Generation: 4,\n Pokemon: Drifblim Type: Ghost Generation: 4,\n Pokemon: Buneary Type: Normal Generation: 4,\n Pokemon: Lopunny Type: Normal Generation: 4,\n Pokemon: LopunnyMega Lopunny Type: Normal Generation: 4,\n Pokemon: Mismagius Type: Ghost Generation: 4,\n Pokemon: Honchkrow Type: Dark Generation: 4,\n Pokemon: Glameow Type: Normal Generation: 4,\n Pokemon: Purugly Type: Normal Generation: 4,\n Pokemon: Chingling Type: Psychic Generation: 4,\n Pokemon: Stunky Type: Poison Generation: 4,\n Pokemon: Skuntank Type: Poison Generation: 4,\n Pokemon: Bronzor Type: Steel Generation: 4,\n Pokemon: Bronzong Type: Steel Generation: 4,\n Pokemon: Bonsly Type: Rock Generation: 4,\n Pokemon: Mime Jr. Type: Psychic Generation: 4,\n Pokemon: Happiny Type: Normal Generation: 4,\n Pokemon: Chatot Type: Normal Generation: 4,\n Pokemon: Spiritomb Type: Ghost Generation: 4,\n Pokemon: Gible Type: Dragon Generation: 4,\n Pokemon: Gabite Type: Dragon Generation: 4,\n Pokemon: Garchomp Type: Dragon Generation: 4,\n Pokemon: GarchompMega Garchomp Type: Dragon Generation: 4,\n Pokemon: Munchlax Type: Normal Generation: 4,\n Pokemon: Riolu Type: Fighting Generation: 4,\n Pokemon: Lucario Type: Fighting Generation: 4,\n Pokemon: LucarioMega Lucario Type: Fighting Generation: 4,\n Pokemon: Hippopotas Type: Ground Generation: 4,\n Pokemon: Hippowdon Type: Ground Generation: 4,\n Pokemon: Skorupi Type: Poison Generation: 4,\n Pokemon: Drapion Type: Poison Generation: 4,\n Pokemon: Croagunk Type: Poison Generation: 4,\n Pokemon: Toxicroak Type: Poison Generation: 4,\n Pokemon: Carnivine Type: Grass Generation: 4,\n Pokemon: Finneon Type: Water Generation: 4,\n Pokemon: Lumineon Type: Water Generation: 4,\n Pokemon: Mantyke Type: Water Generation: 4,\n Pokemon: Snover Type: Grass Generation: 4,\n Pokemon: Abomasnow Type: Grass Generation: 4,\n Pokemon: AbomasnowMega Abomasnow Type: Grass Generation: 4,\n Pokemon: Weavile Type: Dark Generation: 4,\n Pokemon: Magnezone Type: Electric Generation: 4,\n Pokemon: Lickilicky Type: Normal Generation: 4,\n Pokemon: Rhyperior Type: Ground Generation: 4,\n Pokemon: Tangrowth Type: Grass Generation: 4,\n Pokemon: Electivire Type: Electric Generation: 4,\n Pokemon: Magmortar Type: Fire Generation: 4,\n Pokemon: Togekiss Type: Fairy Generation: 4,\n Pokemon: Yanmega Type: Bug Generation: 4,\n Pokemon: Leafeon Type: Grass Generation: 4,\n Pokemon: Glaceon Type: Ice Generation: 4,\n Pokemon: Gliscor Type: Ground Generation: 4,\n Pokemon: Mamoswine Type: Ice Generation: 4,\n Pokemon: Porygon-Z Type: Normal Generation: 4,\n Pokemon: Gallade Type: Psychic Generation: 4,\n Pokemon: GalladeMega Gallade Type: Psychic Generation: 4,\n Pokemon: Probopass Type: Rock Generation: 4,\n Pokemon: Dusknoir Type: Ghost Generation: 4,\n Pokemon: Froslass Type: Ice Generation: 4,\n Pokemon: Rotom Type: Electric Generation: 4,\n Pokemon: RotomHeat Rotom Type: Electric Generation: 4,\n Pokemon: RotomWash Rotom Type: Electric Generation: 4,\n Pokemon: RotomFrost Rotom Type: Electric Generation: 4,\n Pokemon: RotomFan Rotom Type: Electric Generation: 4,\n Pokemon: RotomMow Rotom Type: Electric Generation: 4,\n Pokemon: Uxie Type: Psychic Generation: 4,\n Pokemon: Mesprit Type: Psychic Generation: 4,\n Pokemon: Azelf Type: Psychic Generation: 4,\n Pokemon: Dialga Type: Steel Generation: 4,\n Pokemon: Palkia Type: Water Generation: 4,\n Pokemon: Heatran Type: Fire Generation: 4,\n Pokemon: Regigigas Type: Normal Generation: 4,\n Pokemon: GiratinaAltered Forme Type: Ghost Generation: 4,\n Pokemon: GiratinaOrigin Forme Type: Ghost Generation: 4,\n Pokemon: Cresselia Type: Psychic Generation: 4,\n Pokemon: Phione Type: Water Generation: 4,\n Pokemon: Manaphy Type: Water Generation: 4,\n Pokemon: Darkrai Type: Dark Generation: 4,\n Pokemon: ShayminLand Forme Type: Grass Generation: 4,\n Pokemon: ShayminSky Forme Type: Grass Generation: 4,\n Pokemon: Arceus Type: Normal Generation: 4,\n Pokemon: Victini Type: Psychic Generation: 5,\n Pokemon: Snivy Type: Grass Generation: 5,\n Pokemon: Servine Type: Grass Generation: 5,\n Pokemon: Serperior Type: Grass Generation: 5,\n Pokemon: Tepig Type: Fire Generation: 5,\n Pokemon: Pignite Type: Fire Generation: 5,\n Pokemon: Emboar Type: Fire Generation: 5,\n Pokemon: Oshawott Type: Water Generation: 5,\n Pokemon: Dewott Type: Water Generation: 5,\n Pokemon: Samurott Type: Water Generation: 5,\n Pokemon: Patrat Type: Normal Generation: 5,\n Pokemon: Watchog Type: Normal Generation: 5,\n Pokemon: Lillipup Type: Normal Generation: 5,\n Pokemon: Herdier Type: Normal Generation: 5,\n Pokemon: Stoutland Type: Normal Generation: 5,\n Pokemon: Purrloin Type: Dark Generation: 5,\n Pokemon: Liepard Type: Dark Generation: 5,\n Pokemon: Pansage Type: Grass Generation: 5,\n Pokemon: Simisage Type: Grass Generation: 5,\n Pokemon: Pansear Type: Fire Generation: 5,\n Pokemon: Simisear Type: Fire Generation: 5,\n Pokemon: Panpour Type: Water Generation: 5,\n Pokemon: Simipour Type: Water Generation: 5,\n Pokemon: Munna Type: Psychic Generation: 5,\n Pokemon: Musharna Type: Psychic Generation: 5,\n Pokemon: Pidove Type: Normal Generation: 5,\n Pokemon: Tranquill Type: Normal Generation: 5,\n Pokemon: Unfezant Type: Normal Generation: 5,\n Pokemon: Blitzle Type: Electric Generation: 5,\n Pokemon: Zebstrika Type: Electric Generation: 5,\n Pokemon: Roggenrola Type: Rock Generation: 5,\n Pokemon: Boldore Type: Rock Generation: 5,\n Pokemon: Gigalith Type: Rock Generation: 5,\n Pokemon: Woobat Type: Psychic Generation: 5,\n Pokemon: Swoobat Type: Psychic Generation: 5,\n Pokemon: Drilbur Type: Ground Generation: 5,\n Pokemon: Excadrill Type: Ground Generation: 5,\n Pokemon: Audino Type: Normal Generation: 5,\n Pokemon: AudinoMega Audino Type: Normal Generation: 5,\n Pokemon: Timburr Type: Fighting Generation: 5,\n Pokemon: Gurdurr Type: Fighting Generation: 5,\n Pokemon: Conkeldurr Type: Fighting Generation: 5,\n Pokemon: Tympole Type: Water Generation: 5,\n Pokemon: Palpitoad Type: Water Generation: 5,\n Pokemon: Seismitoad Type: Water Generation: 5,\n Pokemon: Throh Type: Fighting Generation: 5,\n Pokemon: Sawk Type: Fighting Generation: 5,\n Pokemon: Sewaddle Type: Bug Generation: 5,\n Pokemon: Swadloon Type: Bug Generation: 5,\n Pokemon: Leavanny Type: Bug Generation: 5,\n Pokemon: Venipede Type: Bug Generation: 5,\n Pokemon: Whirlipede Type: Bug Generation: 5,\n Pokemon: Scolipede Type: Bug Generation: 5,\n Pokemon: Cottonee Type: Grass Generation: 5,\n Pokemon: Whimsicott Type: Grass Generation: 5,\n Pokemon: Petilil Type: Grass Generation: 5,\n Pokemon: Lilligant Type: Grass Generation: 5,\n Pokemon: Basculin Type: Water Generation: 5,\n Pokemon: Sandile Type: Ground Generation: 5,\n Pokemon: Krokorok Type: Ground Generation: 5,\n Pokemon: Krookodile Type: Ground Generation: 5,\n Pokemon: Darumaka Type: Fire Generation: 5,\n Pokemon: DarmanitanStandard Mode Type: Fire Generation: 5,\n Pokemon: DarmanitanZen Mode Type: Fire Generation: 5,\n Pokemon: Maractus Type: Grass Generation: 5,\n Pokemon: Dwebble Type: Bug Generation: 5,\n Pokemon: Crustle Type: Bug Generation: 5,\n Pokemon: Scraggy Type: Dark Generation: 5,\n Pokemon: Scrafty Type: Dark Generation: 5,\n Pokemon: Sigilyph Type: Psychic Generation: 5,\n Pokemon: Yamask Type: Ghost Generation: 5,\n Pokemon: Cofagrigus Type: Ghost Generation: 5,\n Pokemon: Tirtouga Type: Water Generation: 5,\n Pokemon: Carracosta Type: Water Generation: 5,\n Pokemon: Archen Type: Rock Generation: 5,\n Pokemon: Archeops Type: Rock Generation: 5,\n Pokemon: Trubbish Type: Poison Generation: 5,\n Pokemon: Garbodor Type: Poison Generation: 5,\n Pokemon: Zorua Type: Dark Generation: 5,\n Pokemon: Zoroark Type: Dark Generation: 5,\n Pokemon: Minccino Type: Normal Generation: 5,\n Pokemon: Cinccino Type: Normal Generation: 5,\n Pokemon: Gothita Type: Psychic Generation: 5,\n Pokemon: Gothorita Type: Psychic Generation: 5,\n Pokemon: Gothitelle Type: Psychic Generation: 5,\n Pokemon: Solosis Type: Psychic Generation: 5,\n Pokemon: Duosion Type: Psychic Generation: 5,\n Pokemon: Reuniclus Type: Psychic Generation: 5,\n Pokemon: Ducklett Type: Water Generation: 5,\n Pokemon: Swanna Type: Water Generation: 5,\n Pokemon: Vanillite Type: Ice Generation: 5,\n Pokemon: Vanillish Type: Ice Generation: 5,\n Pokemon: Vanilluxe Type: Ice Generation: 5,\n Pokemon: Deerling Type: Normal Generation: 5,\n Pokemon: Sawsbuck Type: Normal Generation: 5,\n Pokemon: Emolga Type: Electric Generation: 5,\n Pokemon: Karrablast Type: Bug Generation: 5,\n Pokemon: Escavalier Type: Bug Generation: 5,\n Pokemon: Foongus Type: Grass Generation: 5,\n Pokemon: Amoonguss Type: Grass Generation: 5,\n Pokemon: Frillish Type: Water Generation: 5,\n Pokemon: Jellicent Type: Water Generation: 5,\n Pokemon: Alomomola Type: Water Generation: 5,\n Pokemon: Joltik Type: Bug Generation: 5,\n Pokemon: Galvantula Type: Bug Generation: 5,\n Pokemon: Ferroseed Type: Grass Generation: 5,\n Pokemon: Ferrothorn Type: Grass Generation: 5,\n Pokemon: Klink Type: Steel Generation: 5,\n Pokemon: Klang Type: Steel Generation: 5,\n Pokemon: Klinklang Type: Steel Generation: 5,\n Pokemon: Tynamo Type: Electric Generation: 5,\n Pokemon: Eelektrik Type: Electric Generation: 5,\n Pokemon: Eelektross Type: Electric Generation: 5,\n Pokemon: Elgyem Type: Psychic Generation: 5,\n Pokemon: Beheeyem Type: Psychic Generation: 5,\n Pokemon: Litwick Type: Ghost Generation: 5,\n Pokemon: Lampent Type: Ghost Generation: 5,\n Pokemon: Chandelure Type: Ghost Generation: 5,\n Pokemon: Axew Type: Dragon Generation: 5,\n Pokemon: Fraxure Type: Dragon Generation: 5,\n Pokemon: Haxorus Type: Dragon Generation: 5,\n Pokemon: Cubchoo Type: Ice Generation: 5,\n Pokemon: Beartic Type: Ice Generation: 5,\n Pokemon: Cryogonal Type: Ice Generation: 5,\n Pokemon: Shelmet Type: Bug Generation: 5,\n Pokemon: Accelgor Type: Bug Generation: 5,\n Pokemon: Stunfisk Type: Ground Generation: 5,\n Pokemon: Mienfoo Type: Fighting Generation: 5,\n Pokemon: Mienshao Type: Fighting Generation: 5,\n Pokemon: Druddigon Type: Dragon Generation: 5,\n Pokemon: Golett Type: Ground Generation: 5,\n Pokemon: Golurk Type: Ground Generation: 5,\n Pokemon: Pawniard Type: Dark Generation: 5,\n Pokemon: Bisharp Type: Dark Generation: 5,\n Pokemon: Bouffalant Type: Normal Generation: 5,\n Pokemon: Rufflet Type: Normal Generation: 5,\n Pokemon: Braviary Type: Normal Generation: 5,\n Pokemon: Vullaby Type: Dark Generation: 5,\n Pokemon: Mandibuzz Type: Dark Generation: 5,\n Pokemon: Heatmor Type: Fire Generation: 5,\n Pokemon: Durant Type: Bug Generation: 5,\n Pokemon: Deino Type: Dark Generation: 5,\n Pokemon: Zweilous Type: Dark Generation: 5,\n Pokemon: Hydreigon Type: Dark Generation: 5,\n Pokemon: Larvesta Type: Bug Generation: 5,\n Pokemon: Volcarona Type: Bug Generation: 5,\n Pokemon: Cobalion Type: Steel Generation: 5,\n Pokemon: Terrakion Type: Rock Generation: 5,\n Pokemon: Virizion Type: Grass Generation: 5,\n Pokemon: TornadusIncarnate Forme Type: Flying Generation: 5,\n Pokemon: TornadusTherian Forme Type: Flying Generation: 5,\n Pokemon: ThundurusIncarnate Forme Type: Electric Generation: 5,\n Pokemon: ThundurusTherian Forme Type: Electric Generation: 5,\n Pokemon: Reshiram Type: Dragon Generation: 5,\n Pokemon: Zekrom Type: Dragon Generation: 5,\n Pokemon: LandorusIncarnate Forme Type: Ground Generation: 5,\n Pokemon: LandorusTherian Forme Type: Ground Generation: 5,\n Pokemon: Kyurem Type: Dragon Generation: 5,\n Pokemon: KyuremBlack Kyurem Type: Dragon Generation: 5,\n Pokemon: KyuremWhite Kyurem Type: Dragon Generation: 5,\n Pokemon: KeldeoOrdinary Forme Type: Water Generation: 5,\n Pokemon: KeldeoResolute Forme Type: Water Generation: 5,\n Pokemon: MeloettaAria Forme Type: Normal Generation: 5,\n Pokemon: MeloettaPirouette Forme Type: Normal Generation: 5,\n Pokemon: Genesect Type: Bug Generation: 5,\n Pokemon: Chespin Type: Grass Generation: 6,\n Pokemon: Quilladin Type: Grass Generation: 6,\n Pokemon: Chesnaught Type: Grass Generation: 6,\n Pokemon: Fennekin Type: Fire Generation: 6,\n Pokemon: Braixen Type: Fire Generation: 6,\n Pokemon: Delphox Type: Fire Generation: 6,\n Pokemon: Froakie Type: Water Generation: 6,\n Pokemon: Frogadier Type: Water Generation: 6,\n Pokemon: Greninja Type: Water Generation: 6,\n Pokemon: Bunnelby Type: Normal Generation: 6,\n Pokemon: Diggersby Type: Normal Generation: 6,\n Pokemon: Fletchling Type: Normal Generation: 6,\n Pokemon: Fletchinder Type: Fire Generation: 6,\n Pokemon: Talonflame Type: Fire Generation: 6,\n Pokemon: Scatterbug Type: Bug Generation: 6,\n Pokemon: Spewpa Type: Bug Generation: 6,\n Pokemon: Vivillon Type: Bug Generation: 6,\n Pokemon: Litleo Type: Fire Generation: 6,\n Pokemon: Pyroar Type: Fire Generation: 6,\n Pokemon: Flabébé Type: Fairy Generation: 6,\n Pokemon: Floette Type: Fairy Generation: 6,\n Pokemon: Florges Type: Fairy Generation: 6,\n Pokemon: Skiddo Type: Grass Generation: 6,\n Pokemon: Gogoat Type: Grass Generation: 6,\n Pokemon: Pancham Type: Fighting Generation: 6,\n Pokemon: Pangoro Type: Fighting Generation: 6,\n Pokemon: Furfrou Type: Normal Generation: 6,\n Pokemon: Espurr Type: Psychic Generation: 6,\n Pokemon: MeowsticMale Type: Psychic Generation: 6,\n Pokemon: MeowsticFemale Type: Psychic Generation: 6,\n Pokemon: Honedge Type: Steel Generation: 6,\n Pokemon: Doublade Type: Steel Generation: 6,\n Pokemon: AegislashBlade Forme Type: Steel Generation: 6,\n Pokemon: AegislashShield Forme Type: Steel Generation: 6,\n Pokemon: Spritzee Type: Fairy Generation: 6,\n Pokemon: Aromatisse Type: Fairy Generation: 6,\n Pokemon: Swirlix Type: Fairy Generation: 6,\n Pokemon: Slurpuff Type: Fairy Generation: 6,\n Pokemon: Inkay Type: Dark Generation: 6,\n Pokemon: Malamar Type: Dark Generation: 6,\n Pokemon: Binacle Type: Rock Generation: 6,\n Pokemon: Barbaracle Type: Rock Generation: 6,\n Pokemon: Skrelp Type: Poison Generation: 6,\n Pokemon: Dragalge Type: Poison Generation: 6,\n Pokemon: Clauncher Type: Water Generation: 6,\n Pokemon: Clawitzer Type: Water Generation: 6,\n Pokemon: Helioptile Type: Electric Generation: 6,\n Pokemon: Heliolisk Type: Electric Generation: 6,\n Pokemon: Tyrunt Type: Rock Generation: 6,\n Pokemon: Tyrantrum Type: Rock Generation: 6,\n Pokemon: Amaura Type: Rock Generation: 6,\n Pokemon: Aurorus Type: Rock Generation: 6,\n Pokemon: Sylveon Type: Fairy Generation: 6,\n Pokemon: Hawlucha Type: Fighting Generation: 6,\n Pokemon: Dedenne Type: Electric Generation: 6,\n Pokemon: Carbink Type: Rock Generation: 6,\n Pokemon: Goomy Type: Dragon Generation: 6,\n Pokemon: Sliggoo Type: Dragon Generation: 6,\n Pokemon: Goodra Type: Dragon Generation: 6,\n Pokemon: Klefki Type: Steel Generation: 6,\n Pokemon: Phantump Type: Ghost Generation: 6,\n Pokemon: Trevenant Type: Ghost Generation: 6,\n Pokemon: PumpkabooAverage Size Type: Ghost Generation: 6,\n Pokemon: PumpkabooSmall Size Type: Ghost Generation: 6,\n Pokemon: PumpkabooLarge Size Type: Ghost Generation: 6,\n Pokemon: PumpkabooSuper Size Type: Ghost Generation: 6,\n Pokemon: GourgeistAverage Size Type: Ghost Generation: 6,\n Pokemon: GourgeistSmall Size Type: Ghost Generation: 6,\n Pokemon: GourgeistLarge Size Type: Ghost Generation: 6,\n Pokemon: GourgeistSuper Size Type: Ghost Generation: 6,\n Pokemon: Bergmite Type: Ice Generation: 6,\n Pokemon: Avalugg Type: Ice Generation: 6,\n Pokemon: Noibat Type: Flying Generation: 6,\n Pokemon: Noivern Type: Flying Generation: 6,\n Pokemon: Xerneas Type: Fairy Generation: 6,\n Pokemon: Yveltal Type: Dark Generation: 6,\n Pokemon: Zygarde50% Forme Type: Dragon Generation: 6,\n Pokemon: Diancie Type: Rock Generation: 6,\n Pokemon: DiancieMega Diancie Type: Rock Generation: 6,\n Pokemon: HoopaHoopa Confined Type: Psychic Generation: 6,\n Pokemon: HoopaHoopa Unbound Type: Psychic Generation: 6,\n Pokemon: Volcanion Type: Fire Generation: 6]"
          },
          "metadata": {},
          "execution_count": 3
        }
      ]
    },
    {
      "metadata": {},
      "cell_type": "markdown",
      "source": [
        "## Combine all of the things we learned\n",
        "The following code block uses objects, lists, conditions, loops, methods. In short, everything you learned so far.\n",
        "\n",
        "### Exercise\n",
        "Clone to your repository and change the following parts:\n",
        "\n",
        "1. Let him find your favorite Pokemon\n",
        "2. Print the name and the attack value of the Pokemon with the strongest attack\n",
        "3. Make a list of all of the Pokemon of type Poison. Print the first and the last Pokemon of this list.\n",
        "4. Print only the name of the best defense Pokemon of type Rock.\n",
        "5. Lookup the markdown cheat sheet and change the last part to\n",
        "    1. show the name of the Pokemon in *bold*\n",
        "    2. show the Pokemons in an unordered list\n",
        "    3. show a horizontal rule in front of the first Pokemon"
      ]
    },
    {
      "metadata": {
        "trusted": true,
        "tags": []
      },
      "cell_type": "code",
      "source": [
        "%%non_suppressing_capture cellObject\n",
        "# Init the variables for the results\n",
        "biggestPokemon = pokemon.pokedex[0]\n",
        "strongestPokemon = pokemon.pokedex[0]\n",
        "defensePokemon = pokemon.pokedex[0]\n",
        "firstgeneration = []\n",
        "favorite = None\n",
        "# Loop over all of the pokemon\n",
        "for p in pokemon.pokedex:\n",
        "    # If the current pokemon has more health, than the best before.\n",
        "    if p.hp > biggestPokemon.hp:\n",
        "        # The current pokemon is now the biggest (=> most health)\n",
        "        biggestPokemon = p\n",
        "    # Add the current pokemon to the list of the first generation ones.\n",
        "    # Attention: Using p.generation == 1 doesn't work. In generation only str values are stored.\n",
        "    if p.generation == '1':\n",
        "        firstgeneration.append(p)\n",
        "    # Change p.name to p.name.lower()\n",
        "    if p.name == 'ponyta':\n",
        "        favorite = p\n",
        "\n",
        "# When you prepend your string with f, you can include variables directly inside curly braces.\n",
        "print (f\"{biggestPokemon.name} is the biggest Pokemon with {biggestPokemon.hp} HP.\")\n",
        "print (\"{biggestPokemon.name} is the biggest Pokemon with {biggestPokemon.hp} HP.\")\n",
        "\n",
        "# When you don't want to use the f as above, you can concatenate strings with \"+\"\n",
        "print(\"There are \" + str(len(firstgeneration)) + \" pokemon of the first generation.\")\n",
        "if (favorite != None):\n",
        "    print (favorite)\n",
        "else:\n",
        "    print (\"Sadly your favorite couldn't be found.\")\n",
        "    \n",
        "for p in pokemon.pokedex[0:3]:\n",
        "    display(Markdown(f'Pokemon: {p.name} Image ![](https://assets.pokemon.com/assets/cms2/img/pokedex/full/{pokemon.pokedex.index(p)+1:0>3}.png)'))"
      ],
      "execution_count": 1,
      "outputs": [
        {
          "output_type": "stream",
          "name": "stderr",
          "text": "UsageError: Cell magic `%%non_suppressing_capture` not found.\n"
        }
      ]
    },
    {
      "cell_type": "markdown",
      "metadata": {},
      "source": [
        "# Video Material\n",
        "|Link|Duration|\n",
        "|----|-----|\n",
        "|[Corey Schafer: Classes and Instances](https://www.youtube.com/watch?v=ZDa-Z5JzLYM)|15:23|\n",
        "|[Linkedin Learing Classes](https://www.linkedin.com/learning-login/share?account=47996500&forceAccount=false&redirect=https%3A%2F%2Fwww.linkedin.com%2Flearning%2Flearning-python-14393370%2Fclasses%3Ftrk%3Dshare_video_url%26shareId%3DKOWrpRLkSAS17EQo1lI8gg%253D%253D)|10:30|"
      ]
    }
  ],
  "metadata": {
    "kernelspec": {
      "name": "python3",
      "display_name": "Python 3",
      "language": "python"
    },
    "varInspector": {
      "window_display": false,
      "cols": {
        "lenName": 16,
        "lenType": 16,
        "lenVar": 40
      },
      "kernels_config": {
        "python": {
          "library": "var_list.py",
          "delete_cmd_prefix": "del ",
          "delete_cmd_postfix": "",
          "varRefreshCmd": "print(var_dic_list())"
        },
        "r": {
          "library": "var_list.r",
          "delete_cmd_prefix": "rm(",
          "delete_cmd_postfix": ") ",
          "varRefreshCmd": "cat(var_dic_list()) "
        }
      },
      "types_to_exclude": [
        "module",
        "function",
        "builtin_function_or_method",
        "instance",
        "_Feature"
      ]
    },
    "language_info": {
      "mimetype": "text/x-python",
      "nbconvert_exporter": "python",
      "name": "python",
      "pygments_lexer": "ipython3",
      "version": "3.7.6-final",
      "file_extension": ".py",
      "codemirror_mode": {
        "version": 3,
        "name": "ipython"
      }
    }
  },
  "nbformat": 4,
  "nbformat_minor": 2
}