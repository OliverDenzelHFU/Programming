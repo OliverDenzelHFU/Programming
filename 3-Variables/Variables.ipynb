{
  "cells": [
    {
      "cell_type": "markdown",
      "metadata": {},
      "source": [
        "# Working with variables\n",
        "## Neccessary imports - can be ignored at this stage"
      ]
    },
    {
      "cell_type": "code",
      "execution_count": 1,
      "metadata": {
        "jupyter": {
          "source_hidden": true
        },
        "trusted": true
      },
      "outputs": [
        {
          "name": "stdout",
          "output_type": "stream",
          "text": [
            "\u001b[31mERROR: Invalid requirement: 'ipywidgets,'\u001b[0m\u001b[31m\n",
            "\u001b[0m\n",
            "\u001b[1m[\u001b[0m\u001b[34;49mnotice\u001b[0m\u001b[1;39;49m]\u001b[0m\u001b[39;49m A new release of pip is available: \u001b[0m\u001b[31;49m23.2.1\u001b[0m\u001b[39;49m -> \u001b[0m\u001b[32;49m25.2\u001b[0m\n",
            "\u001b[1m[\u001b[0m\u001b[34;49mnotice\u001b[0m\u001b[1;39;49m]\u001b[0m\u001b[39;49m To update, run: \u001b[0m\u001b[32;49mpip install --upgrade pip\u001b[0m\n",
            "Note: you may need to restart the kernel to use updated packages.\n"
          ]
        }
      ],
      "source": [
        "%pip install ipywidgets, otter-grader\n",
        "from ipywidgets import interact\n",
        "import ipywidgets as widgets\n",
        "import math\n"
      ]
    },
    {
      "cell_type": "markdown",
      "metadata": {},
      "source": [
        "## Output with print\n",
        "Using `print` you can output all values from inside your python script. You can have as many `print` calls you want.\n",
        "\n",
        " Output with print\n",
        "Using `print` you can output all values from inside your python script. You can have as many `print` calls you want.\n",
        "\n",
        "If you want to output more than one value you can either call `print` twice or separate the two values using a comma (',')."
      ]
    },
    {
      "cell_type": "code",
      "execution_count": 2,
      "metadata": {
        "tags": []
      },
      "outputs": [
        {
          "name": "stdout",
          "output_type": "stream",
          "text": [
            "Fixed text\n",
            "Two fixed texts.\n"
          ]
        }
      ],
      "source": [
        "print (\"Fixed text\")\n",
        "print (\"Two\", \"fixed texts.\")"
      ]
    },
    {
      "cell_type": "markdown",
      "metadata": {},
      "source": [
        "## Different kinds of variables\n",
        "\n",
        "Type | Example | Use case \n",
        "--- | --- | --- \n",
        "integer | `step` | Counting things \n",
        "float | `pi` | Sensor measurements\n",
        "boolean | `readout` | Choose Values\n",
        "string | `greeting` | Text\n",
        "\n",
        "The type function returns the type of the value you pass in. In python you the type of a variable depends on its content and can change at runtime. (See example piText)"
      ]
    },
    {
      "cell_type": "code",
      "execution_count": 3,
      "metadata": {
        "tags": [],
        "trusted": true
      },
      "outputs": [
        {
          "name": "stdout",
          "output_type": "stream",
          "text": [
            "<class 'int'> 10\n",
            "<class 'bool'> True\n",
            "<class 'float'> 3.141592653589793\n",
            "<class 'str'> Hello World\n",
            "<class 'str'> 3,1415\n",
            "<class 'float'> 3.141592653589793\n"
          ]
        }
      ],
      "source": [
        "step = 10\n",
        "readout = True\n",
        "greeting = \"Hello World\"\n",
        "piText = \"3,1415\"\n",
        "print (type(step), step)\n",
        "print (type(readout), readout)\n",
        "print (type(math.pi), math.pi)\n",
        "print (type(greeting), greeting)\n",
        "print (type(piText), piText)\n",
        "piText = math.pi\n",
        "print (type(piText), piText)"
      ]
    },
    {
      "cell_type": "markdown",
      "metadata": {},
      "source": [
        "## Calulation\n",
        "Using the basic operators you can calulate in python. So you can e.g. multiply a fixed value with a variable. (Example Walking distance, assumed your stride is 60 centimeters)\n",
        "\n",
        "Results of the calculations can be stored in variables."
      ]
    },
    {
      "cell_type": "code",
      "execution_count": 4,
      "metadata": {
        "tags": []
      },
      "outputs": [
        {
          "name": "stdout",
          "output_type": "stream",
          "text": [
            "You walked 600 Centimeters.\n",
            "6.0\n"
          ]
        }
      ],
      "source": [
        "print (\"You walked\", step * 60, \"Centimeters.\")\n",
        "walkingDistanceInMeters = step*60/100\n",
        "print (walkingDistanceInMeters)"
      ]
    },
    {
      "cell_type": "markdown",
      "metadata": {},
      "source": [
        "## Text manipulation\n",
        "Using the `+` operator you can concatenate texts in python, using `*` you can show your text multiple times."
      ]
    },
    {
      "cell_type": "code",
      "execution_count": 5,
      "metadata": {
        "tags": []
      },
      "outputs": [
        {
          "name": "stdout",
          "output_type": "stream",
          "text": [
            "Hello World 10 steps today.\n",
            "Hello World 10 steps today.Hello World 10 steps today.Hello World 10 steps today.\n"
          ]
        }
      ],
      "source": [
        "completeGreeting = greeting + \" \" + str(step) + \" steps today.\"\n",
        "print (completeGreeting)\n",
        "print(completeGreeting*3)"
      ]
    },
    {
      "cell_type": "markdown",
      "metadata": {},
      "source": [
        "## Exercise\n",
        "Analog example to scratch. Please add a calulation for water consumed, the amount of calories and add energy drinks and sodas.\n",
        "\n",
        "Format the values as table using `\\t`.\n"
      ]
    },
    {
      "cell_type": "code",
      "execution_count": null,
      "metadata": {
        "trusted": true
      },
      "outputs": [
        {
          "name": "stdout",
          "output_type": "stream",
          "text": [
            "360 mg of Caffeine when drinking coffee.\n",
            "220 mg of Caffeine when drinking tea.\n"
          ]
        }
      ],
      "source": [
        "caffeineCoffee = 90\n",
        "caffeineTea = 55\n",
        "#caffeineEnergy\n",
        "#caffeineSodas\n",
        "beverages = int(input(\"Amount of beverages: \"))\n",
        "coffeeQuantity = beverages * caffeineCoffee\n",
        "teaQuantity = beverages * caffeineTea\n",
        "#energyQuantity\n",
        "#sodaQuantity\n",
        "\n",
        "print (coffeeQuantity, \"mg of Caffeine when drinking coffee.\")\n",
        "print (teaQuantity, \"mg of Caffeine when drinking tea.\")"
      ]
    },
    {
      "cell_type": "code",
      "execution_count": 7,
      "metadata": {
        "tags": [
          "hide_input"
        ]
      },
      "outputs": [
        {
          "name": "stdout",
          "output_type": "stream",
          "text": [
            "⚠️ Check your calculation:\n",
            "Create Variables results:\n",
            "    Create Variables - 1 result:\n",
            "        ❌ Test case failed\n",
            "        Error at line 8 in test Create Variables:\n",
            "              assert env.__contains__(\"caffeineSodas\"), \"Caffeine Sodas not present as a variable\"\n",
            "        AssertionError: Caffeine Sodas not present as a variable\n",
            "\n",
            "Variable Types results:\n",
            "    Variable Types - 1 result:\n",
            "        ❌ Test case failed\n",
            "        Error at line 8 in test Variable Types:\n",
            "              assert isinstance(caffeineSodas, int), \"Wrong data type for caffeineSodas\"\n",
            "        AssertionError: Wrong data type for caffeineSodas\n"
          ]
        }
      ],
      "source": [
        "import otter\n",
        "grader = otter.Notebook()\n",
        "results = grader.check_all()\n",
        "if results.passed_all_public:\n",
        "    print(\"✅ All Tests succeeded!\")\n",
        "else:\n",
        "    print(\"⚠️ Check your calculation:\")\n",
        "print(results)"
      ]
    },
    {
      "cell_type": "markdown",
      "metadata": {},
      "source": [
        "# Video Material\n",
        "|Link|Duration|\n",
        "|----|-----|\n",
        "|[Khan Academy: Variables in Algebra](https://www.khanacademy.org/math/algebra/x2f8bb11595b61c86:foundation-algebra/x2f8bb11595b61c86:intro-variables/v/what-is-a-variable)|03:40|\n",
        "|[Linkedin Learing](https://www.linkedin.com/learning-login/share?account=47996500&forceAccount=false&redirect=https%3A%2F%2Fwww.linkedin.com%2Flearning%2Flearning-python-14393370%2Fvariables-and-expressions%3Ftrk%3Dshare_video_url%26shareId%3Dj2gmqwCzT6q0v8Z8s5dkDg%253D%253D)|11:40|\n",
        "|[Corey Schafer:Strings](https://www.youtube.com/watch?v=k9TUPpGqYTo)|21:11|\n",
        "|[Corey Schafer:Integer and Floats](https://www.youtube.com/watch?v=khKv-8q7YmY)|11:54|"
      ]
    }
  ],
  "metadata": {
    "kernelspec": {
      "display_name": ".venv (3.11.7)",
      "language": "python",
      "name": "python3"
    },
    "language_info": {
      "codemirror_mode": {
        "name": "ipython",
        "version": 3
      },
      "file_extension": ".py",
      "mimetype": "text/x-python",
      "name": "python",
      "nbconvert_exporter": "python",
      "pygments_lexer": "ipython3",
      "version": "3.11.7"
    }
  },
  "nbformat": 4,
  "nbformat_minor": 2
}
