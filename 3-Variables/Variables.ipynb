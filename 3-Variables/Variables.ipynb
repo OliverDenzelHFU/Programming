{
  "cells": [
    {
      "metadata": {},
      "cell_type": "markdown",
      "source": [
        "# Working with variables\n",
        "## Neccessary imports - can be ignored at this stage"
      ]
    },
    {
      "metadata": {
        "trusted": true
      },
      "cell_type": "code",
      "source": [
        "from ipywidgets import interact\n",
        "import ipywidgets as widgets\n",
        "import math"
      ],
      "execution_count": 8,
      "outputs": []
    },
    {
      "cell_type": "markdown",
      "metadata": {},
      "source": [
        "## Output with print\n",
        "Using `print` you can output all values from inside your python script. You can have as many `print` calls you want.\n",
        "\n",
        " Output with print\n",
        "Using `print` you can output all values from inside your python script. You can have as many `print` calls you want.\n",
        "\n",
        "If you want to output more than one value you can either call `print` twice or separate the two values using a comma (',')."
      ]
    },
    {
      "cell_type": "code",
      "execution_count": 9,
      "metadata": {
        "tags": []
      },
      "outputs": [
        {
          "output_type": "stream",
          "name": "stdout",
          "text": "Fixed text\nTwo fixed texts.\n"
        }
      ],
      "source": [
        "print (\"Fixed text\")\n",
        "print (\"Two\", \"fixed texts.\")"
      ]
    },
    {
      "metadata": {},
      "cell_type": "markdown",
      "source": [
        "## Different kinds of variables\n",
        "\n",
        "Type | Example | Use case \n",
        "--- | --- | --- \n",
        "integer | `step` | Counting things \n",
        "float | `pi` | Sensor measurements\n",
        "boolean | `readout` | Choose Values\n",
        "string | `greeting` | Text\n",
        "\n",
        "The type function returns the type of the value you pass in. In python you the type of a variable depends on its content and can change at runtime. (See example piText)"
      ]
    },
    {
      "metadata": {
        "trusted": true,
        "tags": []
      },
      "cell_type": "code",
      "source": [
        "step = 10\n",
        "readout = True\n",
        "greeting = \"Hello World\"\n",
        "piText = \"3,1415\"\n",
        "print (type(step), step)\n",
        "print (type(readout), readout)\n",
        "print (type(math.pi), math.pi)\n",
        "print (type(greeting), greeting)\n",
        "print (type(piText), piText)\n",
        "piText = math.pi\n",
        "print (type(piText), piText)"
      ],
      "execution_count": 10,
      "outputs": [
        {
          "output_type": "stream",
          "name": "stdout",
          "text": "<class 'int'> 10\n<class 'bool'> True\n<class 'float'> 3.141592653589793\n<class 'str'> Hello World\n<class 'str'> 3,1415\n<class 'float'> 3.141592653589793\n"
        }
      ]
    },
    {
      "cell_type": "markdown",
      "metadata": {},
      "source": [
        "## Calulation\n",
        "Using the basic operators you can calulate in python. So you can e.g. multiply a fixed value with a variable. (Example Walking distance, assumed your stride is 60 centimeters)\n",
        "\n",
        "Results of the calculations can be stored in variables."
      ]
    },
    {
      "cell_type": "code",
      "execution_count": 11,
      "metadata": {
        "tags": []
      },
      "outputs": [
        {
          "output_type": "stream",
          "name": "stdout",
          "text": "You walked 600 Centimeters.\n6.0\n"
        }
      ],
      "source": [
        "print (\"You walked\", step * 60, \"Centimeters.\")\n",
        "walkingDistanceInMeters = step*60/100\n",
        "print (walkingDistanceInMeters)"
      ]
    },
    {
      "cell_type": "markdown",
      "metadata": {},
      "source": [
        "## Text manipulation\n",
        "Using the `+` operator you can concatenate texts in python, using `*` you can show your text multiple times."
      ]
    },
    {
      "cell_type": "code",
      "execution_count": 12,
      "metadata": {
        "tags": []
      },
      "outputs": [
        {
          "output_type": "stream",
          "name": "stdout",
          "text": "Hello World 10 steps today.\nHello World 10 steps today.Hello World 10 steps today.Hello World 10 steps today.\n"
        }
      ],
      "source": [
        "completeGreeting = greeting + \" \" + str(step) + \" steps today.\"\n",
        "print (completeGreeting)\n",
        "print(completeGreeting*3)"
      ]
    },
    {
      "metadata": {},
      "cell_type": "markdown",
      "source": [
        "## Definition of a method\n",
        "A method is a possibility to group together a functionality in a program giving it a name.\n",
        "\n",
        "Here the method is called calculate, gets three parameters and returns one result. So using the baseweight, height und weight it calculates the adjusted body weight. (Formula can be found here: https://www.manuelsweb.com/IBW.htm)\n",
        "\n"
      ]
    },
    {
      "metadata": {
        "trusted": true
      },
      "cell_type": "code",
      "source": [
        "def calculate(baseweight, height, weight):\n",
        "    idealBodyWeight = baseweight + 0.9 * (height - 152)\n",
        "    adjustedBodyWeight = idealBodyWeight + (0.4*(weight - idealBodyWeight))\n",
        "    resultText = \"Your adjusted body weight is: \" + str(adjustedBodyWeight) + \" kg\"\n",
        "    return resultText"
      ],
      "execution_count": 13,
      "outputs": []
    },
    {
      "metadata": {},
      "cell_type": "markdown",
      "source": [
        "## Call with interact\n",
        "By using interact you can interactively call your method and check whether the results are OK for you."
      ]
    },
    {
      "metadata": {
        "trusted": true
      },
      "cell_type": "code",
      "source": [
        "heightcontrol = widgets.IntSlider(min=140,max=230,step=step,readout=readout)\n",
        "result = interact(calculate, baseweight=[(\"Male\",50),(\"Female\",45.5)], height=heightcontrol, weight=(40,150,step))"
      ],
      "execution_count": 17,
      "outputs": [
        {
          "output_type": "display_data",
          "data": {
            "text/plain": "'Your adjusted body weight is: 59.52 kg'"
          },
          "metadata": {}
        }
      ]
    },
    {
      "cell_type": "markdown",
      "metadata": {},
      "source": [
        "# Video Material\n",
        "|Link|Duration|\n",
        "|----|-----|\n",
        "|[Khan Academy: Variables in Algebra](https://www.khanacademy.org/math/algebra/x2f8bb11595b61c86:foundation-algebra/x2f8bb11595b61c86:intro-variables/v/what-is-a-variable)|03:40|\n",
        "|[Linkedin Learing](https://www.linkedin.com/learning-login/share?account=47996500&forceAccount=false&redirect=https%3A%2F%2Fwww.linkedin.com%2Flearning%2Flearning-python-14393370%2Fvariables-and-expressions%3Ftrk%3Dshare_video_url%26shareId%3Dj2gmqwCzT6q0v8Z8s5dkDg%253D%253D)|11:40|\n",
        "|[Corey Schafer:Strings](https://www.youtube.com/watch?v=k9TUPpGqYTo)|21:11|\n",
        "|[Corey Schafer:Integer and Floats](https://www.youtube.com/watch?v=khKv-8q7YmY)|11:54|"
      ]
    }
  ],
  "metadata": {
    "kernelspec": {
      "name": "python3",
      "display_name": "Python 3",
      "language": "python"
    },
    "language_info": {
      "mimetype": "text/x-python",
      "nbconvert_exporter": "python",
      "name": "python",
      "pygments_lexer": "ipython3",
      "version": "3.8.4-final",
      "file_extension": ".py",
      "codemirror_mode": {
        "version": 3,
        "name": "ipython"
      }
    }
  },
  "nbformat": 4,
  "nbformat_minor": 2
}