{
  "cells": [
    {
      "cell_type": "markdown",
      "metadata": {},
      "source": [
        "# Working with variables\n",
        "## Neccessary imports - can be ignored at this stage"
      ]
    },
    {
      "cell_type": "code",
      "execution_count": 15,
      "metadata": {
        "trusted": true
      },
      "outputs": [],
      "source": [
        "from ipywidgets import interact\n",
        "import ipywidgets as widgets\n",
        "import math\n"
      ]
    },
    {
      "cell_type": "markdown",
      "metadata": {},
      "source": [
        "## Output with print\n",
        "Using `print` you can output all values from inside your python script. You can have as many `print` calls you want.\n",
        "\n",
        " Output with print\n",
        "Using `print` you can output all values from inside your python script. You can have as many `print` calls you want.\n",
        "\n",
        "If you want to output more than one value you can either call `print` twice or separate the two values using a comma (',')."
      ]
    },
    {
      "cell_type": "code",
      "execution_count": 16,
      "metadata": {
        "tags": []
      },
      "outputs": [
        {
          "name": "stdout",
          "output_type": "stream",
          "text": [
            "Fixed text\n",
            "Two fixed texts.\n"
          ]
        }
      ],
      "source": [
        "print (\"Fixed text\")\n",
        "print (\"Two\", \"fixed texts.\")"
      ]
    },
    {
      "cell_type": "markdown",
      "metadata": {},
      "source": [
        "## Different kinds of variables\n",
        "\n",
        "Type | Example | Use case \n",
        "--- | --- | --- \n",
        "integer | `step` | Counting things \n",
        "float | `pi` | Sensor measurements\n",
        "boolean | `readout` | Choose Values\n",
        "string | `greeting` | Text\n",
        "\n",
        "The type function returns the type of the value you pass in. In python you the type of a variable depends on its content and can change at runtime. (See example piText)"
      ]
    },
    {
      "cell_type": "code",
      "execution_count": 17,
      "metadata": {
        "tags": [],
        "trusted": true
      },
      "outputs": [
        {
          "name": "stdout",
          "output_type": "stream",
          "text": [
            "<class 'int'> 10\n",
            "<class 'bool'> True\n",
            "<class 'float'> 3.141592653589793\n",
            "<class 'str'> Hello World\n",
            "<class 'str'> 3,1415\n",
            "<class 'float'> 3.141592653589793\n"
          ]
        }
      ],
      "source": [
        "step = 10\n",
        "readout = True\n",
        "greeting = \"Hello World\"\n",
        "piText = \"3,1415\"\n",
        "print (type(step), step)\n",
        "print (type(readout), readout)\n",
        "print (type(math.pi), math.pi)\n",
        "print (type(greeting), greeting)\n",
        "print (type(piText), piText)\n",
        "piText = math.pi\n",
        "print (type(piText), piText)"
      ]
    },
    {
      "cell_type": "markdown",
      "metadata": {},
      "source": [
        "## Calulation\n",
        "Using the basic operators you can calulate in python. So you can e.g. multiply a fixed value with a variable. (Example Walking distance, assumed your stride is 60 centimeters)\n",
        "\n",
        "Results of the calculations can be stored in variables."
      ]
    },
    {
      "cell_type": "code",
      "execution_count": 18,
      "metadata": {
        "tags": []
      },
      "outputs": [
        {
          "name": "stdout",
          "output_type": "stream",
          "text": [
            "You walked 600 Centimeters.\n",
            "6.0\n"
          ]
        }
      ],
      "source": [
        "print (\"You walked\", step * 60, \"Centimeters.\")\n",
        "walkingDistanceInMeters = step*60/100\n",
        "print (walkingDistanceInMeters)"
      ]
    },
    {
      "cell_type": "markdown",
      "metadata": {},
      "source": [
        "## Text manipulation\n",
        "Using the `+` operator you can concatenate texts in python, using `*` you can show your text multiple times."
      ]
    },
    {
      "cell_type": "code",
      "execution_count": 19,
      "metadata": {
        "tags": []
      },
      "outputs": [
        {
          "name": "stdout",
          "output_type": "stream",
          "text": [
            "Hello World 10 steps today.\n",
            "Hello World 10 steps today.Hello World 10 steps today.Hello World 10 steps today.\n"
          ]
        }
      ],
      "source": [
        "completeGreeting = greeting + \" \" + str(step) + \" steps today.\"\n",
        "print (completeGreeting)\n",
        "print(completeGreeting*3)"
      ]
    },
    {
      "cell_type": "markdown",
      "metadata": {},
      "source": [
        "## Exercise\n",
        "Analog example to scratch. Please add a calulation for water consumed, the amount of calories and add energy drinks and sodas.\n",
        "\n",
        "Format the values as table using `\\t`.\n"
      ]
    },
    {
      "cell_type": "code",
      "execution_count": 20,
      "metadata": {
        "trusted": true
      },
      "outputs": [
        {
          "name": "stdout",
          "output_type": "stream",
          "text": [
            "450 mg of Caffeine when drinking coffee.\n",
            "275 mg of Caffeine when drinking tea.\n"
          ]
        }
      ],
      "source": [
        "caffeineCoffee = 90\n",
        "caffeineTea = 55\n",
        "beverages = int(input(\"Amount of beverages: \"))\n",
        "\n",
        "print (beverages * caffeineCoffee, \"mg of Caffeine when drinking coffee.\")\n",
        "print (beverages * caffeineTea, \"mg of Caffeine when drinking tea.\")"
      ]
    },
    {
      "cell_type": "code",
      "execution_count": 21,
      "metadata": {},
      "outputs": [
        {
          "name": "stdout",
          "output_type": "stream",
          "text": [
            "{'__name__': '__main__', '__doc__': 'Automatically created module for IPython interactive environment', '__package__': None, '__loader__': None, '__spec__': None, '__builtin__': <module 'builtins' (built-in)>, '__builtins__': <module 'builtins' (built-in)>, '_ih': ['', 'from ipywidgets import interact\\nimport ipywidgets as widgets\\nimport math', 'print (\"Fixed text\")\\nprint (\"Two\", \"fixed texts.\")', 'step = 10\\nreadout = True\\ngreeting = \"Hello World\"\\npiText = \"3,1415\"\\nprint (type(step), step)\\nprint (type(readout), readout)\\nprint (type(math.pi), math.pi)\\nprint (type(greeting), greeting)\\nprint (type(piText), piText)\\npiText = math.pi\\nprint (type(piText), piText)', 'print (\"You walked\", step * 60, \"Centimeters.\")\\nwalkingDistanceInMeters = step*60/100\\nprint (walkingDistanceInMeters)', 'completeGreeting = greeting + \" \" + str(step) + \" steps today.\"\\nprint (completeGreeting)\\nprint(completeGreeting*3)', 'caffeineCoffee = 90\\ncaffeineTea = 55\\nbeverages = int(input(\"Amount of beverages: \"))\\n\\nprint (beverages * caffeineCoffee, \"mg of Caffeine when drinking coffee.\")\\nprint (beverages * caffeineTea, \"mg of Caffeine when drinking tea.\")', 'import otter\\ngrader = otter.Notebook()\\n\\ngrader.check_all()', 'from ipywidgets import interact\\nimport ipywidgets as widgets\\nimport math', 'print (\"Fixed text\")\\nprint (\"Two\", \"fixed texts.\")', 'step = 10\\nreadout = True\\ngreeting = \"Hello World\"\\npiText = \"3,1415\"\\nprint (type(step), step)\\nprint (type(readout), readout)\\nprint (type(math.pi), math.pi)\\nprint (type(greeting), greeting)\\nprint (type(piText), piText)\\npiText = math.pi\\nprint (type(piText), piText)', 'print (\"You walked\", step * 60, \"Centimeters.\")\\nwalkingDistanceInMeters = step*60/100\\nprint (walkingDistanceInMeters)', 'completeGreeting = greeting + \" \" + str(step) + \" steps today.\"\\nprint (completeGreeting)\\nprint(completeGreeting*3)', 'caffeineCoffee = 90\\ncaffeineTea = 55\\nbeverages = int(input(\"Amount of beverages: \"))\\n\\nprint (beverages * caffeineCoffee, \"mg of Caffeine when drinking coffee.\")\\nprint (beverages * caffeineTea, \"mg of Caffeine when drinking tea.\")', 'import otter\\ngrader = otter.Notebook()\\n\\ngrader.check_all()', 'from ipywidgets import interact\\nimport ipywidgets as widgets\\nimport math', 'print (\"Fixed text\")\\nprint (\"Two\", \"fixed texts.\")', 'step = 10\\nreadout = True\\ngreeting = \"Hello World\"\\npiText = \"3,1415\"\\nprint (type(step), step)\\nprint (type(readout), readout)\\nprint (type(math.pi), math.pi)\\nprint (type(greeting), greeting)\\nprint (type(piText), piText)\\npiText = math.pi\\nprint (type(piText), piText)', 'print (\"You walked\", step * 60, \"Centimeters.\")\\nwalkingDistanceInMeters = step*60/100\\nprint (walkingDistanceInMeters)', 'completeGreeting = greeting + \" \" + str(step) + \" steps today.\"\\nprint (completeGreeting)\\nprint(completeGreeting*3)', 'caffeineCoffee = 90\\ncaffeineTea = 55\\nbeverages = int(input(\"Amount of beverages: \"))\\n\\nprint (beverages * caffeineCoffee, \"mg of Caffeine when drinking coffee.\")\\nprint (beverages * caffeineTea, \"mg of Caffeine when drinking tea.\")', 'import otter\\ngrader = otter.Notebook()\\n\\ngrader.check_all()'], '_oh': {7: q1 results:\n",
            "    q1 - 1 result:\n",
            "        ❌ Test case failed\n",
            "        Error at line 7 in test q1:\n",
            "              assert isinstance(beverages, int), \"Beverages falsch\"\n",
            "        NameError: name 'beverages' is not defined, 14: q1 results: All test cases passed!}, '_dh': [WindowsPath('c:/Users/olid/Documents/Repos/HFU/Programming/3-Variables')], 'In': ['', 'from ipywidgets import interact\\nimport ipywidgets as widgets\\nimport math', 'print (\"Fixed text\")\\nprint (\"Two\", \"fixed texts.\")', 'step = 10\\nreadout = True\\ngreeting = \"Hello World\"\\npiText = \"3,1415\"\\nprint (type(step), step)\\nprint (type(readout), readout)\\nprint (type(math.pi), math.pi)\\nprint (type(greeting), greeting)\\nprint (type(piText), piText)\\npiText = math.pi\\nprint (type(piText), piText)', 'print (\"You walked\", step * 60, \"Centimeters.\")\\nwalkingDistanceInMeters = step*60/100\\nprint (walkingDistanceInMeters)', 'completeGreeting = greeting + \" \" + str(step) + \" steps today.\"\\nprint (completeGreeting)\\nprint(completeGreeting*3)', 'caffeineCoffee = 90\\ncaffeineTea = 55\\nbeverages = int(input(\"Amount of beverages: \"))\\n\\nprint (beverages * caffeineCoffee, \"mg of Caffeine when drinking coffee.\")\\nprint (beverages * caffeineTea, \"mg of Caffeine when drinking tea.\")', 'import otter\\ngrader = otter.Notebook()\\n\\ngrader.check_all()', 'from ipywidgets import interact\\nimport ipywidgets as widgets\\nimport math', 'print (\"Fixed text\")\\nprint (\"Two\", \"fixed texts.\")', 'step = 10\\nreadout = True\\ngreeting = \"Hello World\"\\npiText = \"3,1415\"\\nprint (type(step), step)\\nprint (type(readout), readout)\\nprint (type(math.pi), math.pi)\\nprint (type(greeting), greeting)\\nprint (type(piText), piText)\\npiText = math.pi\\nprint (type(piText), piText)', 'print (\"You walked\", step * 60, \"Centimeters.\")\\nwalkingDistanceInMeters = step*60/100\\nprint (walkingDistanceInMeters)', 'completeGreeting = greeting + \" \" + str(step) + \" steps today.\"\\nprint (completeGreeting)\\nprint(completeGreeting*3)', 'caffeineCoffee = 90\\ncaffeineTea = 55\\nbeverages = int(input(\"Amount of beverages: \"))\\n\\nprint (beverages * caffeineCoffee, \"mg of Caffeine when drinking coffee.\")\\nprint (beverages * caffeineTea, \"mg of Caffeine when drinking tea.\")', 'import otter\\ngrader = otter.Notebook()\\n\\ngrader.check_all()', 'from ipywidgets import interact\\nimport ipywidgets as widgets\\nimport math', 'print (\"Fixed text\")\\nprint (\"Two\", \"fixed texts.\")', 'step = 10\\nreadout = True\\ngreeting = \"Hello World\"\\npiText = \"3,1415\"\\nprint (type(step), step)\\nprint (type(readout), readout)\\nprint (type(math.pi), math.pi)\\nprint (type(greeting), greeting)\\nprint (type(piText), piText)\\npiText = math.pi\\nprint (type(piText), piText)', 'print (\"You walked\", step * 60, \"Centimeters.\")\\nwalkingDistanceInMeters = step*60/100\\nprint (walkingDistanceInMeters)', 'completeGreeting = greeting + \" \" + str(step) + \" steps today.\"\\nprint (completeGreeting)\\nprint(completeGreeting*3)', 'caffeineCoffee = 90\\ncaffeineTea = 55\\nbeverages = int(input(\"Amount of beverages: \"))\\n\\nprint (beverages * caffeineCoffee, \"mg of Caffeine when drinking coffee.\")\\nprint (beverages * caffeineTea, \"mg of Caffeine when drinking tea.\")', 'import otter\\ngrader = otter.Notebook()\\n\\ngrader.check_all()'], 'Out': {7: q1 results:\n",
            "    q1 - 1 result:\n",
            "        ❌ Test case failed\n",
            "        Error at line 7 in test q1:\n",
            "              assert isinstance(beverages, int), \"Beverages falsch\"\n",
            "        NameError: name 'beverages' is not defined, 14: q1 results: All test cases passed!}, 'get_ipython': <bound method InteractiveShell.get_ipython of <ipykernel.zmqshell.ZMQInteractiveShell object at 0x000001D7F21CE390>>, 'exit': <IPython.core.autocall.ZMQExitAutocall object at 0x000001D7F21DE750>, 'quit': <IPython.core.autocall.ZMQExitAutocall object at 0x000001D7F21DE750>, 'open': <function open at 0x000001D7EF5D8860>, '_': q1 results: All test cases passed!, '__': q1 results:\n",
            "    q1 - 1 result:\n",
            "        ❌ Test case failed\n",
            "        Error at line 7 in test q1:\n",
            "              assert isinstance(beverages, int), \"Beverages falsch\"\n",
            "        NameError: name 'beverages' is not defined, '___': '', '__vsc_ipynb_file__': 'c:\\\\Users\\\\olid\\\\Documents\\\\Repos\\\\HFU\\\\Programming\\\\3-Variables\\\\Variables.ipynb', '_i': 'caffeineCoffee = 90\\ncaffeineTea = 55\\nbeverages = int(input(\"Amount of beverages: \"))\\n\\nprint (beverages * caffeineCoffee, \"mg of Caffeine when drinking coffee.\")\\nprint (beverages * caffeineTea, \"mg of Caffeine when drinking tea.\")', '_ii': 'completeGreeting = greeting + \" \" + str(step) + \" steps today.\"\\nprint (completeGreeting)\\nprint(completeGreeting*3)', '_iii': 'print (\"You walked\", step * 60, \"Centimeters.\")\\nwalkingDistanceInMeters = step*60/100\\nprint (walkingDistanceInMeters)', '_i1': 'from ipywidgets import interact\\nimport ipywidgets as widgets\\nimport math', 'interact': <ipywidgets.widgets.interaction._InteractFactory object at 0x000001D7F2308690>, 'widgets': <module 'ipywidgets' from 'C:\\\\Users\\\\olid\\\\AppData\\\\Local\\\\Packages\\\\PythonSoftwareFoundation.Python.3.11_qbz5n2kfra8p0\\\\LocalCache\\\\local-packages\\\\Python311\\\\site-packages\\\\ipywidgets\\\\__init__.py'>, 'math': <module 'math' (built-in)>, '_i2': 'print (\"Fixed text\")\\nprint (\"Two\", \"fixed texts.\")', '_i3': 'step = 10\\nreadout = True\\ngreeting = \"Hello World\"\\npiText = \"3,1415\"\\nprint (type(step), step)\\nprint (type(readout), readout)\\nprint (type(math.pi), math.pi)\\nprint (type(greeting), greeting)\\nprint (type(piText), piText)\\npiText = math.pi\\nprint (type(piText), piText)', 'step': 10, 'readout': True, 'greeting': 'Hello World', 'piText': 3.141592653589793, '_i4': 'print (\"You walked\", step * 60, \"Centimeters.\")\\nwalkingDistanceInMeters = step*60/100\\nprint (walkingDistanceInMeters)', 'walkingDistanceInMeters': 6.0, '_i5': 'completeGreeting = greeting + \" \" + str(step) + \" steps today.\"\\nprint (completeGreeting)\\nprint(completeGreeting*3)', 'completeGreeting': 'Hello World 10 steps today.', '_i6': 'caffeineCoffee = 90\\ncaffeineTea = 55\\nbeverages = int(input(\"Amount of beverages: \"))\\n\\nprint (beverages * caffeineCoffee, \"mg of Caffeine when drinking coffee.\")\\nprint (beverages * caffeineTea, \"mg of Caffeine when drinking tea.\")', 'caffeineCoffee': 90, 'caffeineTea': 55, 'beverages': 5, '_i7': 'import otter\\ngrader = otter.Notebook()\\n\\ngrader.check_all()', 'otter': <module 'otter' from 'C:\\\\Users\\\\olid\\\\AppData\\\\Local\\\\Packages\\\\PythonSoftwareFoundation.Python.3.11_qbz5n2kfra8p0\\\\LocalCache\\\\local-packages\\\\Python311\\\\site-packages\\\\otter\\\\__init__.py'>, 'grader': <otter.check.notebook.Notebook object at 0x000001D7F222B510>, '_7': q1 results:\n",
            "    q1 - 1 result:\n",
            "        ❌ Test case failed\n",
            "        Error at line 7 in test q1:\n",
            "              assert isinstance(beverages, int), \"Beverages falsch\"\n",
            "        NameError: name 'beverages' is not defined, '_i8': 'from ipywidgets import interact\\nimport ipywidgets as widgets\\nimport math', '_i9': 'print (\"Fixed text\")\\nprint (\"Two\", \"fixed texts.\")', '_i10': 'step = 10\\nreadout = True\\ngreeting = \"Hello World\"\\npiText = \"3,1415\"\\nprint (type(step), step)\\nprint (type(readout), readout)\\nprint (type(math.pi), math.pi)\\nprint (type(greeting), greeting)\\nprint (type(piText), piText)\\npiText = math.pi\\nprint (type(piText), piText)', '_i11': 'print (\"You walked\", step * 60, \"Centimeters.\")\\nwalkingDistanceInMeters = step*60/100\\nprint (walkingDistanceInMeters)', '_i12': 'completeGreeting = greeting + \" \" + str(step) + \" steps today.\"\\nprint (completeGreeting)\\nprint(completeGreeting*3)', '_i13': 'caffeineCoffee = 90\\ncaffeineTea = 55\\nbeverages = int(input(\"Amount of beverages: \"))\\n\\nprint (beverages * caffeineCoffee, \"mg of Caffeine when drinking coffee.\")\\nprint (beverages * caffeineTea, \"mg of Caffeine when drinking tea.\")', '_i14': 'import otter\\ngrader = otter.Notebook()\\n\\ngrader.check_all()', '_14': q1 results: All test cases passed!, '_i15': 'from ipywidgets import interact\\nimport ipywidgets as widgets\\nimport math', '_i16': 'print (\"Fixed text\")\\nprint (\"Two\", \"fixed texts.\")', '_i17': 'step = 10\\nreadout = True\\ngreeting = \"Hello World\"\\npiText = \"3,1415\"\\nprint (type(step), step)\\nprint (type(readout), readout)\\nprint (type(math.pi), math.pi)\\nprint (type(greeting), greeting)\\nprint (type(piText), piText)\\npiText = math.pi\\nprint (type(piText), piText)', '_i18': 'print (\"You walked\", step * 60, \"Centimeters.\")\\nwalkingDistanceInMeters = step*60/100\\nprint (walkingDistanceInMeters)', '_i19': 'completeGreeting = greeting + \" \" + str(step) + \" steps today.\"\\nprint (completeGreeting)\\nprint(completeGreeting*3)', '_i20': 'caffeineCoffee = 90\\ncaffeineTea = 55\\nbeverages = int(input(\"Amount of beverages: \"))\\n\\nprint (beverages * caffeineCoffee, \"mg of Caffeine when drinking coffee.\")\\nprint (beverages * caffeineTea, \"mg of Caffeine when drinking tea.\")', '_i21': 'import otter\\ngrader = otter.Notebook()\\n\\ngrader.check_all()'}\n"
          ]
        },
        {
          "data": {
            "text/plain": [
              "q1 results: All test cases passed!"
            ]
          },
          "execution_count": 21,
          "metadata": {},
          "output_type": "execute_result"
        }
      ],
      "source": [
        "import otter\n",
        "grader = otter.Notebook()\n",
        "\n",
        "grader.check_all()"
      ]
    },
    {
      "cell_type": "markdown",
      "metadata": {},
      "source": [
        "# Video Material\n",
        "|Link|Duration|\n",
        "|----|-----|\n",
        "|[Khan Academy: Variables in Algebra](https://www.khanacademy.org/math/algebra/x2f8bb11595b61c86:foundation-algebra/x2f8bb11595b61c86:intro-variables/v/what-is-a-variable)|03:40|\n",
        "|[Linkedin Learing](https://www.linkedin.com/learning-login/share?account=47996500&forceAccount=false&redirect=https%3A%2F%2Fwww.linkedin.com%2Flearning%2Flearning-python-14393370%2Fvariables-and-expressions%3Ftrk%3Dshare_video_url%26shareId%3Dj2gmqwCzT6q0v8Z8s5dkDg%253D%253D)|11:40|\n",
        "|[Corey Schafer:Strings](https://www.youtube.com/watch?v=k9TUPpGqYTo)|21:11|\n",
        "|[Corey Schafer:Integer and Floats](https://www.youtube.com/watch?v=khKv-8q7YmY)|11:54|"
      ]
    }
  ],
  "metadata": {
    "kernelspec": {
      "display_name": "Python 3",
      "language": "python",
      "name": "python3"
    },
    "language_info": {
      "codemirror_mode": {
        "name": "ipython",
        "version": 3
      },
      "file_extension": ".py",
      "mimetype": "text/x-python",
      "name": "python",
      "nbconvert_exporter": "python",
      "pygments_lexer": "ipython3",
      "version": "3.11.9"
    }
  },
  "nbformat": 4,
  "nbformat_minor": 2
}
