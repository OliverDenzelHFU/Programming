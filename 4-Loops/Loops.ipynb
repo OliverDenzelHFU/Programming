{
  "cells": [
    {
      "cell_type": "code",
      "execution_count": null,
      "metadata": {
        "tags": [
          "hide_input",
          "hide_output"
        ],
        "trusted": true
      },
      "outputs": [],
      "source": [
        "%%capture\n",
        "\n",
        "try:\n",
        "    import suntime\n",
        "except:\n",
        "    %pip install suntime\n",
        "    import suntime\n",
        "\n",
        "try:\n",
        "    import otter\n",
        "except:\n",
        "    %pip install otter-grader\n",
        "    import otter\n",
        "\n",
        "\n",
        "from suntime import Sun\n",
        "from datetime import datetime"
      ]
    },
    {
      "cell_type": "markdown",
      "metadata": {},
      "source": [
        "# Conditions\n",
        "With conditions you can execute blocks based on the value of booleans. Normally the booleans are evaluated in place (e.g. variable > 100)\n",
        "\n",
        "An if condition is structured as this `if` **boolean Value**`:`. The commands which are executed have to be indented, either with a **tab** or 4 spaces. After an `if` statement, there can be an `elif` statment (short for else if) for the next conditions or an `else` statement for all other cases."
      ]
    },
    {
      "cell_type": "code",
      "execution_count": 68,
      "metadata": {
        "tags": []
      },
      "outputs": [
        {
          "name": "stdout",
          "output_type": "stream",
          "text": [
            "You should work out more.\n"
          ]
        }
      ],
      "source": [
        "stepsTaken = 10\n",
        "if stepsTaken > 10:\n",
        "    print (\"You reached your goal.\")\n",
        "else:\n",
        "    print (\"You should work out more.\")"
      ]
    },
    {
      "cell_type": "markdown",
      "metadata": {},
      "source": [
        "The conditions after the if statement can also contain methods (see a later course), static values (see the 10 above) and variables. They can be comapred e.g. with a =, > or a <. \n",
        "+ [Documentation for comparisons](https://docs.python.org/3/reference/expressions.html#comparisons) \n",
        "+ [Documentation for Datetime](https://docs.python.org/3/library/datetime.html#available-types)"
      ]
    },
    {
      "cell_type": "code",
      "execution_count": null,
      "metadata": {
        "tags": [],
        "trusted": true
      },
      "outputs": [
        {
          "name": "stdout",
          "output_type": "stream",
          "text": [
            "Have a nice day\n"
          ]
        }
      ],
      "source": [
        "# Exercise 1 - change here\n",
        "# https://geokeo.com/database/city/\n",
        "latitude = 48.0594021\n",
        "longitude = 8.4640869\n",
        "#Get the sun light times for our coordinate\n",
        "sun = Sun(latitude, longitude)\n",
        "sunset = sun.get_local_sunset_time().timestamp()\n",
        "sunrise = sun.get_local_sunrise_time().timestamp()\n",
        "now = datetime.now().timestamp()\n",
        "noon = datetime.now().replace(hour=12,minute=0,second=0)\n",
        "# Exercise 2 - Add a variable afternoon like above (13:00:00)\n",
        "\n",
        "if now > sunset:\n",
        "    print (\"Have a nice evening!\")\n",
        "#Exercise 2 - Add conditions here (Have a look at the documentation for datetime above)\n",
        "#After Afternoon => Have a nice afternoon\n",
        "#After noon => Mahlzeit\n",
        "elif now < sunrise:\n",
        "    print(\"Good Morning!\")\n",
        "else:\n",
        "    print(\"Have a nice day\")"
      ]
    },
    {
      "cell_type": "markdown",
      "metadata": {},
      "source": [
        "# Loops\n",
        "## General\n",
        "In python there are two different kind of loops:\n",
        "`for` an `while`\n",
        "With a `for` loop you can execute code for a fixed set of times, whereas the `while` loop allows you to execute your code more flexible.\n",
        "## For Loop\n",
        "Here are the examples of the `for` loop."
      ]
    },
    {
      "cell_type": "code",
      "execution_count": 70,
      "metadata": {
        "tags": [],
        "trusted": true
      },
      "outputs": [
        {
          "name": "stdout",
          "output_type": "stream",
          "text": [
            "0\n",
            "1\n",
            "2\n",
            "3\n",
            "4\n"
          ]
        }
      ],
      "source": [
        "for x in range(5):\n",
        "    print (x)"
      ]
    },
    {
      "cell_type": "code",
      "execution_count": 71,
      "metadata": {
        "tags": [],
        "trusted": true
      },
      "outputs": [
        {
          "name": "stdout",
          "output_type": "stream",
          "text": [
            "H\n",
            "e\n",
            "l\n",
            "l\n",
            "o\n",
            "!\n"
          ]
        }
      ],
      "source": [
        "for c in 'Hello!':\n",
        "    print (c)"
      ]
    },
    {
      "cell_type": "code",
      "execution_count": 72,
      "metadata": {
        "tags": [],
        "trusted": true
      },
      "outputs": [
        {
          "name": "stdout",
          "output_type": "stream",
          "text": [
            "0\n",
            "10\n",
            "21\n",
            "33\n"
          ]
        }
      ],
      "source": [
        "for x in (0, 10, 21, 33):\n",
        "    print (x)"
      ]
    },
    {
      "cell_type": "code",
      "execution_count": 73,
      "metadata": {
        "tags": []
      },
      "outputs": [
        {
          "name": "stdout",
          "output_type": "stream",
          "text": [
            "DOG\n",
            "CAT\n",
            "BIRD\n"
          ]
        }
      ],
      "source": [
        "for animal in ('dog', 'cat', 'bird'):\n",
        "    print (animal.upper())"
      ]
    },
    {
      "cell_type": "markdown",
      "metadata": {},
      "source": [
        "## While Loop\n",
        "With a while loop your code is executed as long as your condition is `true`. The structure is very similar to an `if` statement."
      ]
    },
    {
      "cell_type": "code",
      "execution_count": 74,
      "metadata": {
        "tags": [],
        "trusted": true
      },
      "outputs": [
        {
          "name": "stdout",
          "output_type": "stream",
          "text": [
            "0\n",
            "1\n",
            "2\n",
            "3\n",
            "4\n"
          ]
        }
      ],
      "source": [
        "i=0\n",
        "while (i<5):\n",
        "    print (i)\n",
        "    i+=1"
      ]
    },
    {
      "cell_type": "markdown",
      "metadata": {},
      "source": [
        "### Use the while loop for calculation\n",
        "Here we calculate the factorial value = number! ($value = \\prod \\limits _{i=1} ^{number} i$). A factorial is used for finding out the number of permutations, e.g. how many ways are there to arrange 11 soccer players in the squad."
      ]
    },
    {
      "cell_type": "code",
      "execution_count": 83,
      "metadata": {
        "tags": [],
        "trusted": true
      },
      "outputs": [
        {
          "name": "stdout",
          "output_type": "stream",
          "text": [
            "The factorial of 11 is 39916800\n"
          ]
        }
      ],
      "source": [
        "value = 1\n",
        "i=1\n",
        "number=11\n",
        "while (i<=number):\n",
        "    value *= i #same as: value=value*i\n",
        "    i+=1 #short for: i=i+1\n",
        "print (\"The factorial of \" + str(number) + \" is \" + str(value))"
      ]
    },
    {
      "cell_type": "markdown",
      "metadata": {},
      "source": [
        "### Use the while loop for fincancial calculations\n",
        "How long do we have to wait until 100 Euros get 200 Euros when you have an interest rate of 2%?"
      ]
    },
    {
      "cell_type": "code",
      "execution_count": 76,
      "metadata": {
        "tags": []
      },
      "outputs": [
        {
          "name": "stdout",
          "output_type": "stream",
          "text": [
            "It takes 36  to get to  203.98873437157042  Euros with an interest rate of  0.02\n"
          ]
        }
      ],
      "source": [
        "account = 100\n",
        "interest = 0.02\n",
        "years = 0\n",
        "while account < 200:\n",
        "    account = account + account * interest\n",
        "    years+=1\n",
        "print ('It takes', years, ' to get to ', account, ' Euros with an interest rate of ', interest)"
      ]
    },
    {
      "cell_type": "markdown",
      "metadata": {},
      "source": [
        "### Generate drawings\n",
        "Using loops you can e.g. generate simple \"drawings\" using charaters."
      ]
    },
    {
      "cell_type": "code",
      "execution_count": 77,
      "metadata": {
        "tags": []
      },
      "outputs": [
        {
          "name": "stdout",
          "output_type": "stream",
          "text": [
            "*  *\n",
            "*   *\n",
            "*    *\n",
            "*     *\n",
            "*      *\n"
          ]
        }
      ],
      "source": [
        "#Pattern - triangle\n",
        "#Exercise 3 - change & add here\n",
        "for i in range (5):\n",
        "    print('*',' '*i,'*')"
      ]
    },
    {
      "cell_type": "code",
      "execution_count": 78,
      "metadata": {
        "tags": []
      },
      "outputs": [
        {
          "name": "stdout",
          "output_type": "stream",
          "text": [
            "6\n",
            "66\n",
            "666\n",
            "6666\n",
            "66666\n",
            "666666\n",
            "66666\n",
            "6666\n",
            "666\n",
            "66\n",
            "7\n",
            "77\n",
            "777\n",
            "7777\n",
            "77777\n",
            "777777\n",
            "7777777\n",
            "777777\n",
            "77777\n",
            "7777\n",
            "777\n",
            "77\n"
          ]
        }
      ],
      "source": [
        "for i in range(5,7):\n",
        "    for j in range(i):\n",
        "        print (str(i+1)*(j+1))\n",
        "    for j in range(i,0,-1):\n",
        "        print (str(i+1)*(j+1))"
      ]
    },
    {
      "cell_type": "code",
      "execution_count": 79,
      "metadata": {
        "tags": []
      },
      "outputs": [
        {
          "name": "stdout",
          "output_type": "stream",
          "text": [
            "+----------+\n",
            "|          |\n",
            "|          |\n",
            "|          |\n",
            "|          |\n",
            "|          |\n",
            "|          |\n",
            "|          |\n",
            "+----------+\n",
            "👍\n"
          ]
        }
      ],
      "source": [
        "width = 10\n",
        "height = 7\n",
        "# Exercise 4 - Change characters here (see documentation below)\n",
        "print ('+'+'-'*width+'+')\n",
        "for i in range(height):\n",
        "    print('|'+' '*width+'|')\n",
        "print ('+'+'-'*width+'+')\n",
        "print('\\U0001F44D') #This is a unicode character"
      ]
    },
    {
      "cell_type": "markdown",
      "metadata": {},
      "source": [
        "Unicode Charaters allow you to output characters which are not available directly on your keyboard. Besides the characters for a lot of different languages, there are also emojis, signs and symbols available. [Character Table Unicode drawing](https://en.wikipedia.org/wiki/Box_Drawing)"
      ]
    },
    {
      "cell_type": "markdown",
      "metadata": {},
      "source": [
        "## Pitfall\n",
        "A Jupyter notebook is not per se executed only once and completely from top to bottom. \n",
        "\n",
        "**Exercise**: What happens, if you execute the following cells more than once? Only one of them, or both?"
      ]
    },
    {
      "cell_type": "code",
      "execution_count": 80,
      "metadata": {},
      "outputs": [],
      "source": [
        "i=0"
      ]
    },
    {
      "cell_type": "code",
      "execution_count": 81,
      "metadata": {
        "tags": []
      },
      "outputs": [
        {
          "name": "stdout",
          "output_type": "stream",
          "text": [
            "1\n"
          ]
        }
      ],
      "source": [
        "i=i+1\n",
        "print (i)"
      ]
    },
    {
      "cell_type": "code",
      "execution_count": null,
      "metadata": {},
      "outputs": [],
      "source": [
        "grader = otter.Notebook()\n",
        "results = grader.check_all()\n",
        "if results.passed_all_public:\n",
        "    print(\"✅ All Tests succeeded!\")\n",
        "else:\n",
        "    print(\"⚠️ Check your calculation:\")\n",
        "print(results)"
      ]
    },
    {
      "cell_type": "markdown",
      "metadata": {},
      "source": [
        "# Video Material\n",
        "|Link|Duration|\n",
        "|----|-----|\n",
        "|[Khan Academy: Circuits & Logic](https://www.khanacademy.org/computing/code-org/computers-and-the-internet/how-computers-work/v/khan-academy-and-codeorg-circuits-logic)|04:44|\n",
        "|[Linkedin Learing Conditions](https://www.linkedin.com/learning-login/share?account=47996500&forceAccount=false&redirect=https%3A%2F%2Fwww.linkedin.com%2Flearning%2Flearning-python-14393370%2Fconditional-structures%3Ftrk%3Dshare_video_url%26shareId%3DKOWrpRLkSAS17EQo1lI8gg%253D%253D)|08:17|\n",
        "|[Linkedin Learing Loops](https://www.linkedin.com/learning-login/share?account=47996500&forceAccount=false&redirect=https%3A%2F%2Fwww.linkedin.com%2Flearning%2Flearning-python-14393370%2Floops%3Ftrk%3Dshare_video_url%26shareId%3DKOWrpRLkSAS17EQo1lI8gg%253D%253D)|09:28|"
      ]
    }
  ],
  "metadata": {
    "kernelspec": {
      "display_name": "Python 3",
      "language": "python",
      "name": "python3"
    },
    "language_info": {
      "codemirror_mode": {
        "name": "ipython",
        "version": 3
      },
      "file_extension": ".py",
      "mimetype": "text/x-python",
      "name": "python",
      "nbconvert_exporter": "python",
      "pygments_lexer": "ipython3",
      "version": "3.7.6"
    }
  },
  "nbformat": 4,
  "nbformat_minor": 2
}
