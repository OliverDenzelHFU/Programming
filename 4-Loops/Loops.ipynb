{
  "cells": [
    {
      "metadata": {},
      "cell_type": "markdown",
      "source": [
        "# Initialization, safe to ignore"
      ]
    },
    {
      "metadata": {
        "trusted": true
      },
      "cell_type": "code",
      "source": [
        "%%capture\n",
        "\n",
        "try:\n",
        "    import suntime\n",
        "except:\n",
        "    !pip install suntime\n",
        "    \n",
        "from suntime import Sun\n",
        "from datetime import datetime"
      ],
      "execution_count": 1,
      "outputs": []
    },
    {
      "metadata": {},
      "cell_type": "markdown",
      "source": [
        "# Conditions\n",
        "With conditions you can execute blocks based on the value of booleans. Normally the booleans are evaluated in place (e.g. variable > 100)\n",
        "\n",
        "An if condition is structured as this `if` **boolean Value**`:`. The commands which are executed have to be indented, either with a **tab** or 4 spaces. After an `if` statement, there can be an `elif` statment (short for else if) for the next conditions or an `else` statement for all other cases."
      ]
    },
    {
      "cell_type": "code",
      "execution_count": 3,
      "metadata": {
        "tags": []
      },
      "outputs": [
        {
          "output_type": "stream",
          "name": "stdout",
          "text": "You should work out more.\n"
        }
      ],
      "source": [
        "stepsTaken = 10\n",
        "if stepsTaken > 10:\n",
        "    print (\"You reached your goal.\")\n",
        "else:\n",
        "    print (\"You should work out more.\")"
      ]
    },
    {
      "cell_type": "markdown",
      "metadata": {},
      "source": [
        "The conditions after the if statement can also contain methods (see a later course), static values (see the 10 above) and variables. They can be comapred e.g. with a =, > or a <. \n",
        "+ [Documentation for comparisons](https://docs.python.org/3/reference/expressions.html#comparisons) \n",
        "+ [Documentation for Datetime](https://docs.python.org/3/library/datetime.html#available-types)"
      ]
    },
    {
      "metadata": {
        "trusted": true,
        "tags": []
      },
      "cell_type": "code",
      "source": [
        "# Exercise 1 - change here\n",
        "latitude = 48.0594021\n",
        "longitude = 8.4640869\n",
        "#Get the sun light times for our coordinate\n",
        "sun = Sun(latitude, longitude)\n",
        "sunset = sun.get_local_sunset_time().timestamp()\n",
        "sunrise = sun.get_local_sunrise_time().timestamp()\n",
        "now = datetime.now().timestamp()\n",
        "\n",
        "if now > sunset:\n",
        "    print (\"Have a nice evening!\")\n",
        "#Exercise 2 - Add an additional condition here (Have a look at the documentation for datetime above)\n",
        "elif now < sunrise:\n",
        "    print(\"Good Morning!\")\n",
        "else:\n",
        "    print(\"Have a nice day\")"
      ],
      "execution_count": 4,
      "outputs": [
        {
          "output_type": "stream",
          "name": "stdout",
          "text": "Have a nice day\n"
        }
      ]
    },
    {
      "metadata": {},
      "cell_type": "markdown",
      "source": [
        "# Loops\n",
        "## General\n",
        "In python there are two different kind of loops:\n",
        "`for` an `while`\n",
        "With a `for` loop you can execute code for a fixed set of times, whereas the `while` loop allows you to execute your code more flexible.\n",
        "## For Loop\n",
        "Here are the examples of the `for` loop."
      ]
    },
    {
      "metadata": {
        "trusted": true,
        "tags": []
      },
      "cell_type": "code",
      "source": [
        "for x in range(5):\n",
        "    print (x)"
      ],
      "execution_count": 5,
      "outputs": [
        {
          "output_type": "stream",
          "name": "stdout",
          "text": "0\n1\n2\n3\n4\n"
        }
      ]
    },
    {
      "metadata": {
        "trusted": true,
        "tags": []
      },
      "cell_type": "code",
      "source": [
        "for c in 'Hello!':\n",
        "    print (c)"
      ],
      "execution_count": 6,
      "outputs": [
        {
          "output_type": "stream",
          "name": "stdout",
          "text": "H\ne\nl\nl\no\n!\n"
        }
      ]
    },
    {
      "metadata": {
        "trusted": true,
        "tags": []
      },
      "cell_type": "code",
      "source": [
        "for x in (0, 10, 21, 33):\n",
        "    print (x)"
      ],
      "execution_count": 7,
      "outputs": [
        {
          "output_type": "stream",
          "name": "stdout",
          "text": "0\n10\n21\n33\n"
        }
      ]
    },
    {
      "cell_type": "code",
      "execution_count": 8,
      "metadata": {
        "tags": []
      },
      "outputs": [
        {
          "output_type": "stream",
          "name": "stdout",
          "text": "DOG\nCAT\nBIRD\n"
        }
      ],
      "source": [
        "for animal in ('dog', 'cat', 'bird'):\n",
        "    print (animal.upper())"
      ]
    },
    {
      "metadata": {},
      "cell_type": "markdown",
      "source": [
        "## While Loop\n",
        "With a while loop your code is executed as long as your condition is `true`. The structure is very similar to an `if` statement."
      ]
    },
    {
      "metadata": {
        "trusted": true,
        "tags": []
      },
      "cell_type": "code",
      "source": [
        "i=0\n",
        "while (i<5):\n",
        "    print (i)\n",
        "    i+=1"
      ],
      "execution_count": 9,
      "outputs": [
        {
          "output_type": "stream",
          "name": "stdout",
          "text": "0\n1\n2\n3\n4\n"
        }
      ]
    },
    {
      "metadata": {},
      "cell_type": "markdown",
      "source": [
        "### Use the while loop for calculation\n",
        "Here we calculate the factorial value = number! ($value = \\prod \\limits _{i=1} ^{number} i$)"
      ]
    },
    {
      "metadata": {
        "trusted": true,
        "tags": []
      },
      "cell_type": "code",
      "source": [
        "value = 1\n",
        "i=1\n",
        "number=11\n",
        "while (i<=number):\n",
        "    value *= i #same as: value=value*i\n",
        "    i+=1 #short for: i=i+1\n",
        "print (\"The factorial of \" + str(number) + \" is \" + str(value))"
      ],
      "execution_count": 10,
      "outputs": [
        {
          "output_type": "stream",
          "name": "stdout",
          "text": "The factorial of 11 is 39916800\n"
        }
      ]
    },
    {
      "cell_type": "markdown",
      "metadata": {},
      "source": [
        "### Use the while loop for fincancial calculations\n",
        "How long do we have to wait until 100 Euros get 200 Euros when you have an interest rate of 2%?"
      ]
    },
    {
      "cell_type": "code",
      "execution_count": 11,
      "metadata": {
        "tags": []
      },
      "outputs": [
        {
          "output_type": "stream",
          "name": "stdout",
          "text": "It takes 36  to get to  203.98873437157042  Euros with an interest rate of  0.02\n"
        }
      ],
      "source": [
        "account = 100\n",
        "interest = 0.02\n",
        "years = 0\n",
        "while account < 200:\n",
        "    account = account + account * interest\n",
        "    years+=1\n",
        "print ('It takes', years, ' to get to ', account, ' Euros with an interest rate of ', interest)"
      ]
    },
    {
      "cell_type": "markdown",
      "metadata": {},
      "source": [
        "### Generate drawings\n",
        "Using loops you can e.g. generate simple \"drawings\" using charaters."
      ]
    },
    {
      "cell_type": "code",
      "execution_count": 12,
      "metadata": {
        "tags": []
      },
      "outputs": [
        {
          "output_type": "stream",
          "name": "stdout",
          "text": "*  *\n*   *\n*    *\n*     *\n*      *\n"
        }
      ],
      "source": [
        "#Pattern - triangle\n",
        "#Exercise 3 - change & add here\n",
        "for i in range (5):\n",
        "    print('*',' '*i,'*')"
      ]
    },
    {
      "cell_type": "code",
      "execution_count": 13,
      "metadata": {
        "tags": []
      },
      "outputs": [
        {
          "output_type": "stream",
          "name": "stdout",
          "text": "6\n66\n666\n6666\n66666\n666666\n66666\n6666\n666\n66\n7\n77\n777\n7777\n77777\n777777\n7777777\n777777\n77777\n7777\n777\n77\n"
        }
      ],
      "source": [
        "for i in range(5,7):\n",
        "    for j in range(i):\n",
        "        print (str(i+1)*(j+1))\n",
        "    for j in range(i,0,-1):\n",
        "        print (str(i+1)*(j+1))"
      ]
    },
    {
      "cell_type": "code",
      "execution_count": 18,
      "metadata": {
        "tags": []
      },
      "outputs": [
        {
          "output_type": "stream",
          "name": "stdout",
          "text": "+----------+\n|          |\n|          |\n|          |\n|          |\n|          |\n|          |\n|          |\n+----------+\n👍\n"
        }
      ],
      "source": [
        "width = 10\n",
        "height = 7\n",
        "# Exercise 4 - Change characters here (see documentation below)\n",
        "print ('+'+'-'*width+'+')\n",
        "for i in range(height):\n",
        "    print('|'+' '*width+'|')\n",
        "print ('+'+'-'*width+'+')\n",
        "print('\\U0001F44D') #This is a unicode character"
      ]
    },
    {
      "cell_type": "markdown",
      "metadata": {},
      "source": [
        "Unicode Charaters allow you to output characters which are not available directly on your keyboard. Besides the characters for a lot of different languages, there are also emojis, signs and symbols available. [Character Table Unicode drawing](https://en.wikipedia.org/wiki/Box_Drawing)"
      ]
    },
    {
      "cell_type": "markdown",
      "metadata": {},
      "source": [
        "## Pitfall\n",
        "A Jupyter notebook is not per se executed only once and completely from top to bottom. \n",
        "\n",
        "**Exercise**: What happens, if you execute the following cells more than once? Only one of them, or both?"
      ]
    },
    {
      "cell_type": "code",
      "execution_count": 15,
      "metadata": {},
      "outputs": [],
      "source": [
        "i=0"
      ]
    },
    {
      "cell_type": "code",
      "execution_count": 1,
      "metadata": {
        "tags": []
      },
      "outputs": [
        {
          "output_type": "error",
          "ename": "NameError",
          "evalue": "name 'i' is not defined",
          "traceback": [
            "\u001b[0;31m---------------------------------------------------------------------------\u001b[0m",
            "\u001b[0;31mNameError\u001b[0m                                 Traceback (most recent call last)",
            "\u001b[0;32m<ipython-input-1-ee341f9ca5d9>\u001b[0m in \u001b[0;36m<module>\u001b[0;34m\u001b[0m\n\u001b[0;32m----> 1\u001b[0;31m \u001b[0mi\u001b[0m\u001b[0;34m=\u001b[0m\u001b[0mi\u001b[0m\u001b[0;34m+\u001b[0m\u001b[0;36m1\u001b[0m\u001b[0;34m\u001b[0m\u001b[0;34m\u001b[0m\u001b[0m\n\u001b[0m\u001b[1;32m      2\u001b[0m \u001b[0mprint\u001b[0m \u001b[0;34m(\u001b[0m\u001b[0mi\u001b[0m\u001b[0;34m)\u001b[0m\u001b[0;34m\u001b[0m\u001b[0;34m\u001b[0m\u001b[0m\n",
            "\u001b[0;31mNameError\u001b[0m: name 'i' is not defined"
          ]
        }
      ],
      "source": [
        "i=i+1\n",
        "print (i)"
      ]
    },
    {
      "cell_type": "markdown",
      "metadata": {},
      "source": [
        "# Video Material\n",
        "|Link|Duration|\n",
        "|----|-----|\n",
        "|[Khan Academy: Circuits & Logic](https://www.khanacademy.org/computing/code-org/computers-and-the-internet/how-computers-work/v/khan-academy-and-codeorg-circuits-logic)|04:44|\n",
        "|[Linkedin Learing Conditions](https://www.linkedin.com/learning-login/share?account=47996500&forceAccount=false&redirect=https%3A%2F%2Fwww.linkedin.com%2Flearning%2Flearning-python-14393370%2Fconditional-structures%3Ftrk%3Dshare_video_url%26shareId%3DKOWrpRLkSAS17EQo1lI8gg%253D%253D)|08:17|\n",
        "|[Linkedin Learing Loops](https://www.linkedin.com/learning-login/share?account=47996500&forceAccount=false&redirect=https%3A%2F%2Fwww.linkedin.com%2Flearning%2Flearning-python-14393370%2Floops%3Ftrk%3Dshare_video_url%26shareId%3DKOWrpRLkSAS17EQo1lI8gg%253D%253D)|09:28|"
      ]
    }
  ],
  "metadata": {
    "kernelspec": {
      "name": "python3",
      "display_name": "Python 3",
      "language": "python"
    },
    "language_info": {
      "mimetype": "text/x-python",
      "nbconvert_exporter": "python",
      "name": "python",
      "pygments_lexer": "ipython3",
      "version": "3.7.6-final",
      "file_extension": ".py",
      "codemirror_mode": {
        "version": 3,
        "name": "ipython"
      }
    }
  },
  "nbformat": 4,
  "nbformat_minor": 2
}