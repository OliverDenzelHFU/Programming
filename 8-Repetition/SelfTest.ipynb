{
  "cells": [
    {
      "metadata": {
        "collapsed": true
      },
      "cell_type": "markdown",
      "source": [
        "# Assignment\n",
        "The goal is, that you program in python and scratch to show that you understood every topic of the lecture. As a help for finding the correct grade, a documentation is neccessary.\n",
        "\n",
        "## documentation\n",
        "The documentation doesn't have to be a scientific paper, the goal is that you document your project, with your successes and failures. Neccessary parts are a table/list of hours, which show where you put your focus to and screenshots of your programs.\n",
        "## scratch\n",
        "The scratch program has a focus on the visual part. Nevertheless it is required, that all of the topics of the lecture are used at least once. (For details, see below)\n",
        "## python\n",
        "Your python program has a focus on the technical part. The usage of replit or Github&Binder is sensible, which you choose is dependent on your preferences / project idea. Replit is more easy to develop with, but a good looking interface is harder to achieve. The Github/Binder combination has an easy way to achieve an interface, but is a little bit harder to develop with.\n",
        "\n",
        "# Self Test"
      ]
    },
    {
      "metadata": {
        "trusted": true
      },
      "cell_type": "code",
      "source": [
        "# Utils widgets\n",
        "from ipywidgets import HBox, VBox, Button, Label, Checkbox, Text, IntSlider\n",
        "\n",
        "scratchheader = Label(value=\"Scratch\")\n",
        "pythonheader = Label(value=\"Python\")\n",
        "documentationheader = Label(value=\"Documentation\")\n",
        "scratchHasCondition = Checkbox(description=\"Has Condition\")\n",
        "scratchHasLoop = Checkbox(description=\"Has Loop\")\n",
        "scratchHasMethod = Checkbox(description=\"Has MyBlock or SendMessage\")\n",
        "scratchHasList = Checkbox(description=\"Has List\")\n",
        "\n",
        "pythonHasCondition = Checkbox(description=\"Has Condition\")\n",
        "pythonHasLoop      = Checkbox(description=\"Has Loop\")\n",
        "pythonHasMethod    = Checkbox(description=\"Has Method\")\n",
        "pythonHasList      = Checkbox(description=\"Has List\")\n",
        "pythonHasObject      = Checkbox(description=\"Has Object\")\n",
        "pythonHasModule      = Checkbox(description=\"Has Module\")\n",
        "\n",
        "documentationPages = IntSlider(description=\"No of pages\")\n",
        "documentationHasHours = Checkbox(description=\"Has Number of Hours\")\n",
        "documentationHasScreenshots = Checkbox(description=\"Has Screenshots\")\n",
        "\n",
        "b = Button(description=\"Grade\")\n",
        "scratch = VBox([scratchheader, scratchHasCondition, scratchHasLoop, scratchHasMethod, scratchHasList])\n",
        "python = VBox([pythonheader, pythonHasCondition,pythonHasLoop,     pythonHasMethod,   pythonHasList, pythonHasObject, pythonHasModule])\n",
        "documentation = VBox([documentationheader, documentationPages, documentationHasHours, documentationHasScreenshots])\n",
        "grades = HBox([scratch,python,documentation])\n",
        "passNotPass = Text(description=\"Pass?\")\n",
        "allControls = VBox([grades,b, passNotPass])\n",
        "\n",
        "def grade(b):\n",
        "    if not(scratchHasCondition.value and scratchHasList.value and scratchHasLoop.value and scratchHasMethod.value):\n",
        "        passNotPass.value = \"Not Pass (Scratch)\"\n",
        "    elif not(pythonHasCondition.value and pythonHasList.value and pythonHasLoop.value and pythonHasMethod.value and pythonHasModule.value and pythonHasObject.value):\n",
        "        passNotPass.value = \"Not Pass (Python)\"\n",
        "    elif not(documentationPages.value > 10 and documentationPages.value < 30 and documentationHasHours.value and documentationHasScreenshots.value):\n",
        "        passNotPass.value = \"Not Pass (Documentation)\"\n",
        "    else:\n",
        "        passNotPass.value = \"Pass\"\n",
        "b.on_click(grade)\n",
        "\n",
        "\n",
        "allControls"
      ],
      "execution_count": 1,
      "outputs": [
        {
          "output_type": "display_data",
          "data": {
            "text/plain": "VBox(children=(HBox(children=(VBox(children=(Label(value='Scratch'), Checkbox(value=False, description='Has Co…",
            "application/vnd.jupyter.widget-view+json": {
              "version_major": 2,
              "version_minor": 0,
              "model_id": "f3fd8761023240ad9f7eb0c8f9784f50"
            }
          },
          "metadata": {}
        }
      ]
    },
    {
      "metadata": {
        "trusted": true
      },
      "cell_type": "code",
      "source": [],
      "execution_count": null,
      "outputs": []
    }
  ],
  "metadata": {
    "kernelspec": {
      "name": "python_defaultSpec_1607556796621",
      "display_name": "Python 3.7.6 64-bit ('anaconda3': virtualenv)",
      "language": "python"
    },
    "varInspector": {
      "window_display": false,
      "cols": {
        "lenName": 16,
        "lenType": 16,
        "lenVar": 40
      },
      "kernels_config": {
        "python": {
          "library": "var_list.py",
          "delete_cmd_prefix": "del ",
          "delete_cmd_postfix": "",
          "varRefreshCmd": "print(var_dic_list())"
        },
        "r": {
          "library": "var_list.r",
          "delete_cmd_prefix": "rm(",
          "delete_cmd_postfix": ") ",
          "varRefreshCmd": "cat(var_dic_list()) "
        }
      },
      "types_to_exclude": [
        "module",
        "function",
        "builtin_function_or_method",
        "instance",
        "_Feature"
      ]
    },
    "language_info": {
      "mimetype": "text/x-python",
      "nbconvert_exporter": "python",
      "name": "python",
      "pygments_lexer": "ipython3",
      "version": "3.7.6-final",
      "file_extension": ".py",
      "codemirror_mode": {
        "version": 3,
        "name": "ipython"
      }
    }
  },
  "nbformat": 4,
  "nbformat_minor": 2
}