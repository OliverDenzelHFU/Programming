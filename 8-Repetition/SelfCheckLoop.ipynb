{
  "cells": [
    {
      "metadata": {
        "trusted": true
      },
      "cell_type": "code",
      "source": [
        "%run ../Objects/Init.ipynb\n",
        "%run CheckLoop.py\n",
        "from ipywidgets import Button\n",
        "b = Button(description=\"Grade\")\n",
        "def click(b):\n",
        "    if (\"cellFor\" in globals()):\n",
        "        grade(b, cellFor)\n",
        "    else:\n",
        "        print (\"Execute your cell first\")\n",
        "b.on_click(click)\n",
        "b"
      ],
      "execution_count": 1,
      "outputs": [
        {
          "output_type": "display_data",
          "data": {
            "text/plain": "Button(description='Grade', style=ButtonStyle())",
            "application/vnd.jupyter.widget-view+json": {
              "version_major": 2,
              "version_minor": 0,
              "model_id": "ad0fd3763fa9430681116c3176bcffa2"
            }
          },
          "metadata": {}
        }
      ]
    },
    {
      "metadata": {},
      "cell_type": "markdown",
      "source": [
        "# Loops\n",
        "## General\n",
        "In python there are two different kind of loops:\n",
        "`for` an `while`\n",
        "With a `for` loop you can execute code for a fixed set of times, whereas the `while` loop allows you to execute your code more flexible.\n",
        "## For Loop"
      ]
    },
    {
      "metadata": {
        "trusted": true,
        "tags": []
      },
      "cell_type": "code",
      "source": [
        "%%non_suppressing_capture cellFor\n",
        "for x in range(4):\n",
        "    print (x)"
      ],
      "execution_count": 2,
      "outputs": [
        {
          "output_type": "stream",
          "name": "stdout",
          "text": "0\n1\n2\n3\n"
        }
      ]
    },
    {
      "metadata": {},
      "cell_type": "markdown",
      "source": [
        "## Exercise\n",
        "Change the above loop to print up until 10"
      ]
    }
  ],
  "metadata": {
    "kernelspec": {
      "name": "python3",
      "display_name": "Python 3",
      "language": "python"
    },
    "varInspector": {
      "window_display": false,
      "cols": {
        "lenName": 16,
        "lenType": 16,
        "lenVar": 40
      },
      "kernels_config": {
        "python": {
          "library": "var_list.py",
          "delete_cmd_prefix": "del ",
          "delete_cmd_postfix": "",
          "varRefreshCmd": "print(var_dic_list())"
        },
        "r": {
          "library": "var_list.r",
          "delete_cmd_prefix": "rm(",
          "delete_cmd_postfix": ") ",
          "varRefreshCmd": "cat(var_dic_list()) "
        }
      },
      "types_to_exclude": [
        "module",
        "function",
        "builtin_function_or_method",
        "instance",
        "_Feature"
      ]
    }
  },
  "nbformat": 4,
  "nbformat_minor": 2
}