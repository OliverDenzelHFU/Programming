{
  "cells": [
    {
      "metadata": {
        "collapsed": true
      },
      "cell_type": "markdown",
      "source": [
        "# Repetition"
      ]
    },
    {
      "metadata": {},
      "cell_type": "markdown",
      "source": [
        "## Import / Modules\n",
        "From Modules you can import additional functionality.\n",
        "\n",
        "Don't overthink this at first, just add your import statements as needed.\n",
        "\n",
        "Here are the most important modules which were used in the examples:\n",
        "\n",
        "| Name | Use | Documentation |\n",
        "|---|---|---|\n",
        "| ipywidgets | Interactive Jupyter Notebooks | https://ipywidgets.readthedocs.io/en/latest/examples/Using%20Interact.html |\n",
        "| numpy & pandas | Analyzing big datasets | https://numpy.org https://pandas.pydata.org |\n",
        "| math | more elaborate math functions | https://docs.python.org/3/library/math.html |\n",
        "| csv | importing data without using pandas / numpy | https://docs.python.org/3/library/csv.html |\n",
        "| datetime | working with dates, timespans and so on | https://docs.python.org/3/library/datetime.html |\n",
        "| random | Getting random values | https://docs.python.org/3/library/random.html |\n",
        "| matplotlib | Plotting values | https://matplotlib.org |\n",
        "| bokeh | Alternative to matplotlib | https://docs.bokeh.org/en/latest/ |\n",
        "\n",
        "Feel free to use them for your assignment, or choose different ones!"
      ]
    },
    {
      "metadata": {
        "trusted": true
      },
      "cell_type": "code",
      "source": [
        "from ipywidgets import interact,Checkbox"
      ],
      "execution_count": 1,
      "outputs": []
    },
    {
      "metadata": {},
      "cell_type": "markdown",
      "source": [
        "## Method definition\n",
        "The idea here is to define a method which gets a few parameters concerning your assignment and returns a boolean value.\n",
        "\n",
        "The boolean value represents wether the parameters are in a correct range."
      ]
    },
    {
      "metadata": {
        "trusted": true
      },
      "cell_type": "code",
      "source": [
        "def grade (hasForLoop, hasWhileLoop, hasMethod, documentPages):\n",
        "    return (hasForLoop or hasWhileLoop) and hasMethod and documentPages >= 10 and documentPages < 30"
      ],
      "execution_count": 2,
      "outputs": []
    },
    {
      "metadata": {},
      "cell_type": "markdown",
      "source": [
        "## Call the method\n",
        "In the module ipywidgets there is the method interact. With this you can call one of your methods, and have it generate controls for every parameter.\n",
        "\n",
        "This is one of the things you can do: Write a method which simulates things, and make it interactive using interact."
      ]
    },
    {
      "metadata": {
        "trusted": true
      },
      "cell_type": "code",
      "source": [
        "interact(grade, hasForLoop=False, hasWhileLoop=False, hasMethod=Checkbox(value=False,description=\"Scratch has a method\"), documentPages=10);"
      ],
      "execution_count": 3,
      "outputs": [
        {
          "output_type": "display_data",
          "data": {
            "text/plain": "interactive(children=(Checkbox(value=False, description='hasForLoop'), Checkbox(value=False, description='hasW…",
            "application/vnd.jupyter.widget-view+json": {
              "version_major": 2,
              "version_minor": 0,
              "model_id": "322e91e326f0492bb0ae0666263e602d"
            }
          },
          "metadata": {}
        }
      ]
    },
    {
      "metadata": {},
      "cell_type": "markdown",
      "source": [
        "## Working with lists & loops\n",
        "With lists you can store multiple values in one variable. Often they are combinated with loops. Loops allow you to execute code multiple times.\n",
        "\n",
        "### Documentation\n",
        "\n",
        "Lists: https://docs.python.org/3/tutorial/datastructures.html\n",
        "\n",
        "Loops: https://wiki.python.org/moin/ForLoop\n"
      ]
    },
    {
      "metadata": {
        "trusted": true
      },
      "cell_type": "code",
      "source": [
        "empty = []\n",
        "notEmpty = [90]\n",
        "\n",
        "for i in range(10):\n",
        "    notEmpty.append(i)\n",
        "    \n",
        "notEmpty[3:5]"
      ],
      "execution_count": 4,
      "outputs": [
        {
          "output_type": "execute_result",
          "data": {
            "text/plain": "[2, 3]"
          },
          "metadata": {},
          "execution_count": 4
        }
      ]
    },
    {
      "metadata": {},
      "cell_type": "markdown",
      "source": [
        "## Object / Classes\n",
        "When you use lists, you are already using predefined objects.\n",
        "\n",
        "You can also implement your own objects to combine a datastructure with logic."
      ]
    },
    {
      "metadata": {
        "trusted": true,
        "tags": []
      },
      "cell_type": "code",
      "source": [
        "class price:\n",
        "    def __init__(self, price, currency):\n",
        "        self.price = price\n",
        "        self.currency = currency\n",
        "    def changeCurrency(self, newCurrency):\n",
        "        if (self.currency==\"Euro\" and newCurrency==\"Yen\"):\n",
        "            self.price *= 120\n",
        "            self.currency = newCurrency\n",
        "        elif (self.currency==\"Yen\" and newCurrency==\"Euro\"):\n",
        "            self.price /= 120\n",
        "            self.currency = newCurrency\n",
        "        else:\n",
        "            print(\"Error, possibly wrong currency?\")\n",
        "    def __repr__(self):\n",
        "        return str(self.price) + \" \" + self.currency\n",
        "iphone11 = price(799, \"Euro\")\n",
        "iphone11.changeCurrency(\"Yen\")\n",
        "iphone11.changeCurrency(\"Dollar\")\n",
        "print (\"iPhone 11 in Yen: \" + str(iphone11))"
      ],
      "execution_count": 5,
      "outputs": [
        {
          "output_type": "stream",
          "name": "stdout",
          "text": "Error, possibly wrong currency?\niPhone 11 in Yen: 95880 Yen\n"
        }
      ]
    },
    {
      "metadata": {},
      "cell_type": "markdown",
      "source": [
        "## Numpy / Pandas / Bokeh\n",
        "Using those libraries you can implement a complete analysis of even the largests datasets."
      ]
    },
    {
      "metadata": {
        "trusted": true
      },
      "cell_type": "code",
      "source": [
        "import numpy as np\n",
        "import pandas as pd\n",
        "\n",
        "df = pd.read_csv('./de-nrw-dortmund-versorgung_mit_energie_und_wasser_seit_1994.csv', encoding='latin1', delimiter=';')\n",
        "df.head(5)"
      ],
      "execution_count": 6,
      "outputs": [
        {
          "output_type": "execute_result",
          "data": {
            "text/plain": "   Jahr  Erdgasverkauf insgesamt in Mill kWh  \\\n0  1994                                 4804   \n1  1995                                 5052   \n2  1996                                 5636   \n3  1997                                 4943   \n4  1998                                 4942   \n\n   darunter Erdgasverkauf an Privatkunden  \\\n0                                    3464   \n1                                    3701   \n2                                    4268   \n3                                    3727   \n4                                    3760   \n\n   darunter Erdgasverkauf an Geschäftskunden  \\\n0                                       1340   \n1                                       1350   \n2                                       1369   \n3                                       1216   \n4                                       1182   \n\n   Stromverkauf insgesamt in Mill kWh  darunter Stromverkauf an Privatkunden  \\\n0                                2207                                   1064   \n1                                2196                                   1067   \n2                                2236                                   1110   \n3                                2204                                   1075   \n4                                2223                                   1070   \n\n   darunter Stromverkauf an Geschäftskunden  Fernwärmeverkauf in Mill kWh  \\\n0                                      1142                           392   \n1                                      1129                           393   \n2                                      1126                           450   \n3                                      1129                           429   \n4                                      1153                           421   \n\n   Nahwärmeverkauf in Mill kWh  Wasserverkauf insgesamt in Mill m³  \\\n0                          158                                  60   \n1                          169                                  59   \n2                          214                                  59   \n3                          198                                  59   \n4                          245                                  56   \n\n   davon an Privatkunden  davon an Geschäftskunden  \n0                     39                        22  \n1                     38                        21  \n2                     37                        22  \n3                     37                        22  \n4                     36                        20  ",
            "text/html": "<div>\n<style scoped>\n    .dataframe tbody tr th:only-of-type {\n        vertical-align: middle;\n    }\n\n    .dataframe tbody tr th {\n        vertical-align: top;\n    }\n\n    .dataframe thead th {\n        text-align: right;\n    }\n</style>\n<table border=\"1\" class=\"dataframe\">\n  <thead>\n    <tr style=\"text-align: right;\">\n      <th></th>\n      <th>Jahr</th>\n      <th>Erdgasverkauf insgesamt in Mill kWh</th>\n      <th>darunter Erdgasverkauf an Privatkunden</th>\n      <th>darunter Erdgasverkauf an Geschäftskunden</th>\n      <th>Stromverkauf insgesamt in Mill kWh</th>\n      <th>darunter Stromverkauf an Privatkunden</th>\n      <th>darunter Stromverkauf an Geschäftskunden</th>\n      <th>Fernwärmeverkauf in Mill kWh</th>\n      <th>Nahwärmeverkauf in Mill kWh</th>\n      <th>Wasserverkauf insgesamt in Mill m³</th>\n      <th>davon an Privatkunden</th>\n      <th>davon an Geschäftskunden</th>\n    </tr>\n  </thead>\n  <tbody>\n    <tr>\n      <th>0</th>\n      <td>1994</td>\n      <td>4804</td>\n      <td>3464</td>\n      <td>1340</td>\n      <td>2207</td>\n      <td>1064</td>\n      <td>1142</td>\n      <td>392</td>\n      <td>158</td>\n      <td>60</td>\n      <td>39</td>\n      <td>22</td>\n    </tr>\n    <tr>\n      <th>1</th>\n      <td>1995</td>\n      <td>5052</td>\n      <td>3701</td>\n      <td>1350</td>\n      <td>2196</td>\n      <td>1067</td>\n      <td>1129</td>\n      <td>393</td>\n      <td>169</td>\n      <td>59</td>\n      <td>38</td>\n      <td>21</td>\n    </tr>\n    <tr>\n      <th>2</th>\n      <td>1996</td>\n      <td>5636</td>\n      <td>4268</td>\n      <td>1369</td>\n      <td>2236</td>\n      <td>1110</td>\n      <td>1126</td>\n      <td>450</td>\n      <td>214</td>\n      <td>59</td>\n      <td>37</td>\n      <td>22</td>\n    </tr>\n    <tr>\n      <th>3</th>\n      <td>1997</td>\n      <td>4943</td>\n      <td>3727</td>\n      <td>1216</td>\n      <td>2204</td>\n      <td>1075</td>\n      <td>1129</td>\n      <td>429</td>\n      <td>198</td>\n      <td>59</td>\n      <td>37</td>\n      <td>22</td>\n    </tr>\n    <tr>\n      <th>4</th>\n      <td>1998</td>\n      <td>4942</td>\n      <td>3760</td>\n      <td>1182</td>\n      <td>2223</td>\n      <td>1070</td>\n      <td>1153</td>\n      <td>421</td>\n      <td>245</td>\n      <td>56</td>\n      <td>36</td>\n      <td>20</td>\n    </tr>\n  </tbody>\n</table>\n</div>"
          },
          "metadata": {},
          "execution_count": 6
        }
      ]
    },
    {
      "metadata": {
        "trusted": true
      },
      "cell_type": "code",
      "source": [
        "df.describe()"
      ],
      "execution_count": 7,
      "outputs": [
        {
          "output_type": "execute_result",
          "data": {
            "text/plain": "              Jahr  Erdgasverkauf insgesamt in Mill kWh  \\\ncount    24.000000                            24.000000   \nmean   2005.500000                          4788.208333   \nstd       7.071068                           311.537140   \nmin    1994.000000                          4022.000000   \n25%    1999.750000                          4601.750000   \n50%    2005.500000                          4806.000000   \n75%    2011.250000                          4942.250000   \nmax    2017.000000                          5636.000000   \n\n       darunter Erdgasverkauf an Privatkunden  \\\ncount                               24.000000   \nmean                              3141.291667   \nstd                                620.314540   \nmin                               1987.000000   \n25%                               2741.000000   \n50%                               3335.500000   \n75%                               3578.250000   \nmax                               4268.000000   \n\n       darunter Erdgasverkauf an Geschäftskunden  \\\ncount                                  24.000000   \nmean                                 1106.000000   \nstd                                   221.159789   \nmin                                   547.000000   \n25%                                  1000.250000   \n50%                                  1189.500000   \n75%                                  1244.000000   \nmax                                  1369.000000   \n\n       Stromverkauf insgesamt in Mill kWh  \\\ncount                           24.000000   \nmean                          2293.458333   \nstd                             82.703756   \nmin                           2157.000000   \n25%                           2221.750000   \n50%                           2277.000000   \n75%                           2371.750000   \nmax                           2422.000000   \n\n       darunter Stromverkauf an Privatkunden  \\\ncount                              24.000000   \nmean                              967.125000   \nstd                                99.765949   \nmin                               755.000000   \n25%                               881.000000   \n50%                              1010.000000   \n75%                              1046.000000   \nmax                              1110.000000   \n\n       darunter Stromverkauf an Geschäftskunden  Fernwärmeverkauf in Mill kWh  \\\ncount                                 24.000000                     24.000000   \nmean                                 972.250000                    382.666667   \nstd                                  232.419084                     33.880438   \nmin                                  553.000000                    318.000000   \n25%                                  750.250000                    365.250000   \n50%                                 1103.500000                    384.500000   \n75%                                 1142.250000                    398.750000   \nmax                                 1199.000000                    450.000000   \n\n       Nahwärmeverkauf in Mill kWh  Wasserverkauf insgesamt in Mill m³  \\\ncount                    24.000000                             24.0000   \nmean                    238.000000                             42.8750   \nstd                      32.288105                              9.6833   \nmin                     158.000000                             34.0000   \n25%                     234.500000                             35.0000   \n50%                     245.000000                             37.5000   \n75%                     255.750000                             52.0000   \nmax                     290.000000                             60.0000   \n\n       davon an Privatkunden  davon an Geschäftskunden  \ncount              24.000000                 24.000000  \nmean               33.583333                  9.375000  \nstd                 2.888006                  7.125048  \nmin                30.000000                  4.000000  \n25%                31.000000                  4.000000  \n50%                32.000000                  5.500000  \n75%                36.000000                 16.000000  \nmax                39.000000                 22.000000  ",
            "text/html": "<div>\n<style scoped>\n    .dataframe tbody tr th:only-of-type {\n        vertical-align: middle;\n    }\n\n    .dataframe tbody tr th {\n        vertical-align: top;\n    }\n\n    .dataframe thead th {\n        text-align: right;\n    }\n</style>\n<table border=\"1\" class=\"dataframe\">\n  <thead>\n    <tr style=\"text-align: right;\">\n      <th></th>\n      <th>Jahr</th>\n      <th>Erdgasverkauf insgesamt in Mill kWh</th>\n      <th>darunter Erdgasverkauf an Privatkunden</th>\n      <th>darunter Erdgasverkauf an Geschäftskunden</th>\n      <th>Stromverkauf insgesamt in Mill kWh</th>\n      <th>darunter Stromverkauf an Privatkunden</th>\n      <th>darunter Stromverkauf an Geschäftskunden</th>\n      <th>Fernwärmeverkauf in Mill kWh</th>\n      <th>Nahwärmeverkauf in Mill kWh</th>\n      <th>Wasserverkauf insgesamt in Mill m³</th>\n      <th>davon an Privatkunden</th>\n      <th>davon an Geschäftskunden</th>\n    </tr>\n  </thead>\n  <tbody>\n    <tr>\n      <th>count</th>\n      <td>24.000000</td>\n      <td>24.000000</td>\n      <td>24.000000</td>\n      <td>24.000000</td>\n      <td>24.000000</td>\n      <td>24.000000</td>\n      <td>24.000000</td>\n      <td>24.000000</td>\n      <td>24.000000</td>\n      <td>24.0000</td>\n      <td>24.000000</td>\n      <td>24.000000</td>\n    </tr>\n    <tr>\n      <th>mean</th>\n      <td>2005.500000</td>\n      <td>4788.208333</td>\n      <td>3141.291667</td>\n      <td>1106.000000</td>\n      <td>2293.458333</td>\n      <td>967.125000</td>\n      <td>972.250000</td>\n      <td>382.666667</td>\n      <td>238.000000</td>\n      <td>42.8750</td>\n      <td>33.583333</td>\n      <td>9.375000</td>\n    </tr>\n    <tr>\n      <th>std</th>\n      <td>7.071068</td>\n      <td>311.537140</td>\n      <td>620.314540</td>\n      <td>221.159789</td>\n      <td>82.703756</td>\n      <td>99.765949</td>\n      <td>232.419084</td>\n      <td>33.880438</td>\n      <td>32.288105</td>\n      <td>9.6833</td>\n      <td>2.888006</td>\n      <td>7.125048</td>\n    </tr>\n    <tr>\n      <th>min</th>\n      <td>1994.000000</td>\n      <td>4022.000000</td>\n      <td>1987.000000</td>\n      <td>547.000000</td>\n      <td>2157.000000</td>\n      <td>755.000000</td>\n      <td>553.000000</td>\n      <td>318.000000</td>\n      <td>158.000000</td>\n      <td>34.0000</td>\n      <td>30.000000</td>\n      <td>4.000000</td>\n    </tr>\n    <tr>\n      <th>25%</th>\n      <td>1999.750000</td>\n      <td>4601.750000</td>\n      <td>2741.000000</td>\n      <td>1000.250000</td>\n      <td>2221.750000</td>\n      <td>881.000000</td>\n      <td>750.250000</td>\n      <td>365.250000</td>\n      <td>234.500000</td>\n      <td>35.0000</td>\n      <td>31.000000</td>\n      <td>4.000000</td>\n    </tr>\n    <tr>\n      <th>50%</th>\n      <td>2005.500000</td>\n      <td>4806.000000</td>\n      <td>3335.500000</td>\n      <td>1189.500000</td>\n      <td>2277.000000</td>\n      <td>1010.000000</td>\n      <td>1103.500000</td>\n      <td>384.500000</td>\n      <td>245.000000</td>\n      <td>37.5000</td>\n      <td>32.000000</td>\n      <td>5.500000</td>\n    </tr>\n    <tr>\n      <th>75%</th>\n      <td>2011.250000</td>\n      <td>4942.250000</td>\n      <td>3578.250000</td>\n      <td>1244.000000</td>\n      <td>2371.750000</td>\n      <td>1046.000000</td>\n      <td>1142.250000</td>\n      <td>398.750000</td>\n      <td>255.750000</td>\n      <td>52.0000</td>\n      <td>36.000000</td>\n      <td>16.000000</td>\n    </tr>\n    <tr>\n      <th>max</th>\n      <td>2017.000000</td>\n      <td>5636.000000</td>\n      <td>4268.000000</td>\n      <td>1369.000000</td>\n      <td>2422.000000</td>\n      <td>1110.000000</td>\n      <td>1199.000000</td>\n      <td>450.000000</td>\n      <td>290.000000</td>\n      <td>60.0000</td>\n      <td>39.000000</td>\n      <td>22.000000</td>\n    </tr>\n  </tbody>\n</table>\n</div>"
          },
          "metadata": {},
          "execution_count": 7
        }
      ]
    },
    {
      "metadata": {
        "trusted": true
      },
      "cell_type": "code",
      "source": [
        "from bokeh.plotting import figure, output_notebook, show\n",
        "output_notebook()\n",
        "\n",
        "p = figure(title=\"Erdgasverkauf insgesamt in Mill kWh\", x_axis_label='Year', y_axis_label='kWh')\n",
        "\n",
        "p.line(df['Jahr'], df['Erdgasverkauf insgesamt in Mill kWh'], line_width=2)\n",
        "\n",
        "show(p)"
      ],
      "execution_count": 1,
      "outputs": [
        {
          "output_type": "error",
          "ename": "ModuleNotFoundError",
          "evalue": "No module named 'bokeh'",
          "traceback": [
            "\u001b[0;31m---------------------------------------------------------------------------\u001b[0m",
            "\u001b[0;31mModuleNotFoundError\u001b[0m                       Traceback (most recent call last)",
            "\u001b[0;32m<ipython-input-1-5b1476fa2443>\u001b[0m in \u001b[0;36m<module>\u001b[0;34m\u001b[0m\n\u001b[0;32m----> 1\u001b[0;31m \u001b[0;32mfrom\u001b[0m \u001b[0mbokeh\u001b[0m\u001b[0;34m.\u001b[0m\u001b[0mplotting\u001b[0m \u001b[0;32mimport\u001b[0m \u001b[0mfigure\u001b[0m\u001b[0;34m,\u001b[0m \u001b[0moutput_notebook\u001b[0m\u001b[0;34m,\u001b[0m \u001b[0mshow\u001b[0m\u001b[0;34m\u001b[0m\u001b[0;34m\u001b[0m\u001b[0m\n\u001b[0m\u001b[1;32m      2\u001b[0m \u001b[0moutput_notebook\u001b[0m\u001b[0;34m(\u001b[0m\u001b[0;34m)\u001b[0m\u001b[0;34m\u001b[0m\u001b[0;34m\u001b[0m\u001b[0m\n\u001b[1;32m      3\u001b[0m \u001b[0;34m\u001b[0m\u001b[0m\n\u001b[1;32m      4\u001b[0m \u001b[0mp\u001b[0m \u001b[0;34m=\u001b[0m \u001b[0mfigure\u001b[0m\u001b[0;34m(\u001b[0m\u001b[0mtitle\u001b[0m\u001b[0;34m=\u001b[0m\u001b[0;34m\"Erdgasverkauf insgesamt in Mill kWh\"\u001b[0m\u001b[0;34m,\u001b[0m \u001b[0mx_axis_label\u001b[0m\u001b[0;34m=\u001b[0m\u001b[0;34m'Year'\u001b[0m\u001b[0;34m,\u001b[0m \u001b[0my_axis_label\u001b[0m\u001b[0;34m=\u001b[0m\u001b[0;34m'kWh'\u001b[0m\u001b[0;34m)\u001b[0m\u001b[0;34m\u001b[0m\u001b[0;34m\u001b[0m\u001b[0m\n\u001b[1;32m      5\u001b[0m \u001b[0;34m\u001b[0m\u001b[0m\n",
            "\u001b[0;31mModuleNotFoundError\u001b[0m: No module named 'bokeh'"
          ]
        }
      ]
    },
    {
      "cell_type": "markdown",
      "metadata": {},
      "source": [
        "# Video Material\n",
        "|Link|Duration|\n",
        "|----|-----|\n",
        "|[Kimberly Fessel: Interact Introduction](https://www.youtube.com/watch?v=wb6k_T4rKBQ)|09:38|\n",
        "|[Kimberly Fessel: Interact Examples](https://www.youtube.com/watch?v=vtC5laIgMJc)|09:38|\n",
        "|[Python Programming: NumPy](https://www.youtube.com/watch?v=xECXZ3tyONo) |13:37|\n",
        "|[Python Programming: Pandas](https://www.youtube.com/watch?v=dcqPhpY7tWk)|10:07|\n",
        "|[Hello Python: Using Pandas](https://www.youtube.com/watch?v=Mll6emjBFvA)|10:41|\n",
        "|[Pseudorandomcoder: Getting started with bokeh](https://www.youtube.com/watch?v=i3-wsgtGhfs)|09:05|\n",
        "|[SF Python: Lighting Talk Python+Bokeh](https://www.youtube.com/watch?v=lw2NvGWsS1)|08:16|\n",
        "|[Tech with Tim: More Modules](https://www.youtube.com/watch?v=OJk5rD7st-I)|05:22|"
      ]
    }
  ],
  "metadata": {
    "kernelspec": {
      "name": "python38464bit26ca19d3cc9e464986a11a9d3e4b2f86",
      "display_name": "Python 3.8.4 64-bit",
      "language": "python"
    },
    "language_info": {
      "mimetype": "text/x-python",
      "nbconvert_exporter": "python",
      "name": "python",
      "pygments_lexer": "ipython3",
      "version": "3.8.4-final",
      "file_extension": ".py",
      "codemirror_mode": {
        "version": 3,
        "name": "ipython"
      }
    },
    "varInspector": {
      "window_display": false,
      "cols": {
        "lenName": 16,
        "lenType": 16,
        "lenVar": 40
      },
      "kernels_config": {
        "python": {
          "library": "var_list.py",
          "delete_cmd_prefix": "del ",
          "delete_cmd_postfix": "",
          "varRefreshCmd": "print(var_dic_list())"
        },
        "r": {
          "library": "var_list.r",
          "delete_cmd_prefix": "rm(",
          "delete_cmd_postfix": ") ",
          "varRefreshCmd": "cat(var_dic_list()) "
        }
      },
      "types_to_exclude": [
        "module",
        "function",
        "builtin_function_or_method",
        "instance",
        "_Feature"
      ]
    }
  },
  "nbformat": 4,
  "nbformat_minor": 2
}