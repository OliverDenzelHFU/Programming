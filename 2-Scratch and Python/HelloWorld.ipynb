{
  "cells": [
    {
      "cell_type": "markdown",
      "metadata": {},
      "source": [
        "# Hello World\n",
        "Every programmer has to write a program which outputs Hello World. *(It's a programmers law)*"
      ]
    },
    {
      "cell_type": "code",
      "execution_count": 1,
      "metadata": {
        "tags": [],
        "trusted": true
      },
      "outputs": [
        {
          "name": "stdout",
          "output_type": "stream",
          "text": [
            "Good Morning!\n"
          ]
        }
      ],
      "source": [
        "print (\"Good Morning!\")"
      ]
    },
    {
      "cell_type": "markdown",
      "metadata": {},
      "source": [
        "## Exercise 1\n",
        "Change the code to `print(\"Hello\\nworld\\t!\")`\n",
        "What happens and why?\n",
        "## Exercise 2\n",
        "Please expand the code so that it outputs the following text:\n",
        "```\n",
        "Dear Madam or Sir,\n",
        "with this letter I would like to apply for the position as an engineer in your company.\n",
        "Here is a short list of my qualifications:\n",
        "    * Studied at the HFU\n",
        "    * Average grade: 1.0\n",
        "Sincerely,\n",
        "    Max Mustermann\n",
        "```"
      ]
    }
  ],
  "metadata": {
    "kernelspec": {
      "display_name": ".venv (3.11.7)",
      "language": "python",
      "name": "python3"
    },
    "language_info": {
      "codemirror_mode": {
        "name": "ipython",
        "version": 3
      },
      "file_extension": ".py",
      "mimetype": "text/x-python",
      "name": "python",
      "nbconvert_exporter": "python",
      "pygments_lexer": "ipython3",
      "version": "3.11.7"
    }
  },
  "nbformat": 4,
  "nbformat_minor": 2
}
