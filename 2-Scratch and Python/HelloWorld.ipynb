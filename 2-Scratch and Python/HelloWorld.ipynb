{
  "cells": [
    {
      "metadata": {},
      "cell_type": "markdown",
      "source": [
        "# Hello World\n",
        "Every programmer has to write a program which outputs Hello World. *(It's a programmers law)*"
      ]
    },
    {
      "metadata": {
        "trusted": true,
        "tags": []
      },
      "cell_type": "code",
      "source": [
        "print (\"Good Morning!\")"
      ],
      "execution_count": 1,
      "outputs": [
        {
          "output_type": "stream",
          "name": "stdout",
          "text": "Good Morning!\n"
        }
      ]
    },
    {
      "metadata": {},
      "cell_type": "markdown",
      "source": [
        "## Exercise 1\n",
        "Change the code to `print(\"Hello\\nworld\\t!\")`\n",
        "What happens and why?\n",
        "## Exercise 2\n",
        "Please expand the code so that it outputs the following text:\n",
        "```\n",
        "Dear Madam or Sir,\n",
        "with this letter I would like to apply for the position as an engineer in your company.\n",
        "Here is a short list of my qualifications:\n",
        "    * Studied at the HFU\n",
        "    * Average grade: 1.0\n",
        "Sincerely,\n",
        "    Max Mustermann\n",
        "```"
      ]
    }
  ],
  "metadata": {
    "kernelspec": {
      "name": "python_defaultSpec_1602786543463",
      "display_name": "Python 3.8.4 64-bit",
      "language": "python"
    },
    "language_info": {
      "mimetype": "text/x-python",
      "nbconvert_exporter": "python",
      "name": "python",
      "pygments_lexer": "ipython3",
      "version": "3.8.4-final",
      "file_extension": ".py",
      "codemirror_mode": {
        "version": 3,
        "name": "ipython"
      }
    }
  },
  "nbformat": 4,
  "nbformat_minor": 2
}