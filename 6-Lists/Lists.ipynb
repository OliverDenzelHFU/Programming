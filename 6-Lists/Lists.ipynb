{
  "cells": [
    {
      "metadata": {
        "hide_input": false,
        "slideshow": {
          "slide_type": "slide"
        }
      },
      "cell_type": "markdown",
      "source": [
        "# Lists\n",
        "## Creation\n",
        "Lists in python can store any combination of values in one variable. The order of the values is preserved.\n",
        "You can declare an empty list using ```[]```. Alternatively you can declare a list prefilled with values, e.g. ```[1, 3.1415, \"Math is superb\"]```"
      ]
    },
    {
      "cell_type": "code",
      "execution_count": 10,
      "metadata": {},
      "outputs": [
        {
          "output_type": "execute_result",
          "data": {
            "text/plain": "[-10, 1.34, 5]"
          },
          "metadata": {},
          "execution_count": 10
        }
      ],
      "source": [
        "listExample = [1,2,3,8,10,\"Thats it.\"]\n",
        "onlyNumbers = [-10, 1.34, 5]\n",
        "emptyList = []\n",
        "emptyList.append(17)\n",
        "onlyNumbers"
      ]
    },
    {
      "cell_type": "markdown",
      "metadata": {},
      "source": [
        "## Indexed access\n",
        "An element of the list can be accessed using its index. The indices start with 0, which is the first element. The last element can be accessed by either using len(list), or the index -1. If you use negative indices, python starts to count from the end of the list."
      ]
    },
    {
      "cell_type": "code",
      "execution_count": 7,
      "metadata": {
        "tags": []
      },
      "outputs": [
        {
          "output_type": "stream",
          "name": "stdout",
          "text": "[-10, 1.34, 5]\n5\nThats it.\n"
        }
      ],
      "source": [
        "print (onlyNumbers)\n",
        "print (onlyNumbers[2])\n",
        "print (listExample[-1])"
      ]
    },
    {
      "cell_type": "markdown",
      "metadata": {},
      "source": [
        "## Change the lists\n",
        "Using `append`, `clear`, `remove` and other methods you can change a list. [Documentation](https://docs.python.org/3/tutorial/datastructures.html)"
      ]
    },
    {
      "cell_type": "code",
      "execution_count": 12,
      "metadata": {
        "tags": []
      },
      "outputs": [
        {
          "output_type": "stream",
          "name": "stdout",
          "text": "[1, 2, 8, 10, 'Thats it.', 'shark', 'shark']\n7\n"
        },
        {
          "output_type": "error",
          "ename": "ValueError",
          "evalue": "list.remove(x): x not in list",
          "traceback": [
            "\u001b[0;31m---------------------------------------------------------------------------\u001b[0m",
            "\u001b[0;31mValueError\u001b[0m                                Traceback (most recent call last)",
            "\u001b[0;32m<ipython-input-12-1e2c1474b9ac>\u001b[0m in \u001b[0;36m<module>\u001b[0;34m\u001b[0m\n\u001b[1;32m      2\u001b[0m \u001b[0mprint\u001b[0m\u001b[0;34m(\u001b[0m\u001b[0mlistExample\u001b[0m\u001b[0;34m)\u001b[0m\u001b[0;34m\u001b[0m\u001b[0;34m\u001b[0m\u001b[0m\n\u001b[1;32m      3\u001b[0m \u001b[0mprint\u001b[0m\u001b[0;34m(\u001b[0m\u001b[0mlen\u001b[0m\u001b[0;34m(\u001b[0m\u001b[0mlistExample\u001b[0m\u001b[0;34m)\u001b[0m\u001b[0;34m)\u001b[0m\u001b[0;34m\u001b[0m\u001b[0;34m\u001b[0m\u001b[0m\n\u001b[0;32m----> 4\u001b[0;31m \u001b[0mlistExample\u001b[0m\u001b[0;34m.\u001b[0m\u001b[0mremove\u001b[0m\u001b[0;34m(\u001b[0m\u001b[0;36m3\u001b[0m\u001b[0;34m)\u001b[0m\u001b[0;34m\u001b[0m\u001b[0;34m\u001b[0m\u001b[0m\n\u001b[0m\u001b[1;32m      5\u001b[0m \u001b[0mprint\u001b[0m\u001b[0;34m(\u001b[0m\u001b[0mlistExample\u001b[0m\u001b[0;34m)\u001b[0m\u001b[0;34m\u001b[0m\u001b[0;34m\u001b[0m\u001b[0m\n\u001b[1;32m      6\u001b[0m \u001b[0mprint\u001b[0m\u001b[0;34m(\u001b[0m\u001b[0memptyList\u001b[0m\u001b[0;34m)\u001b[0m\u001b[0;34m\u001b[0m\u001b[0;34m\u001b[0m\u001b[0m\n",
            "\u001b[0;31mValueError\u001b[0m: list.remove(x): x not in list"
          ]
        }
      ],
      "source": [
        "listExample.append(\"shark\")\n",
        "print(listExample)\n",
        "print(len(listExample))\n",
        "listExample.remove(3)\n",
        "print(listExample)\n",
        "print(emptyList)\n",
        "emptyList.clear()\n",
        "print(emptyList)"
      ]
    },
    {
      "cell_type": "markdown",
      "metadata": {},
      "source": [
        "## Slicing\n",
        "Using slicing a list can be made to a sublist in python. You define the sublist with a start index and/or an end index. The start index is always included, the end index is the first which is not included."
      ]
    },
    {
      "cell_type": "code",
      "execution_count": 17,
      "metadata": {
        "tags": []
      },
      "outputs": [
        {
          "output_type": "stream",
          "name": "stdout",
          "text": "[8, 10]\n[1, 2, 8, 10]\n[8, 10, 'Thats it.', 'shark', 'shark']\n"
        }
      ],
      "source": [
        "print (listExample[2:4])\n",
        "print (listExample[:4])\n",
        "print (listExample[2:])"
      ]
    },
    {
      "cell_type": "markdown",
      "metadata": {},
      "source": [
        "## Membership Test\n",
        "A variable or a constant value can be checked, wether it is in the list using the `in` operator."
      ]
    },
    {
      "cell_type": "code",
      "execution_count": 20,
      "metadata": {
        "tags": []
      },
      "outputs": [
        {
          "output_type": "stream",
          "name": "stdout",
          "text": "True\nFalse\nTrue\n"
        }
      ],
      "source": [
        "print(1 in listExample)\n",
        "print(17 in listExample)\n",
        "print (17 not in listExample)"
      ]
    },
    {
      "metadata": {
        "slideshow": {
          "slide_type": "subslide"
        }
      },
      "cell_type": "markdown",
      "source": [
        "## Sieve of Erasthostenes\n",
        "The sieve of erasthostenes works like this:\n",
        "You have a list of numbers. You start with the number two. Then you cross off every second number starting with four. Then you continue to the first number, which is not crossed of yet (3). Then you cross of the next multiple of it up to the end of your list. Then you repeat the process for the next number, which is not crossed off yet.\n",
        "\n",
        "For implementing it in python you create a list, which you fill with the value ```True```. If you cross off a value, you set it to ```False```.\n",
        "\n",
        "For initialization you create an empty list, and append the value ```True``` to it.\n",
        "\n",
        "For the crossing off part, you usually use to loops which are nested. The first loop iterated over the candidates, the second one does the crossing off."
      ]
    },
    {
      "metadata": {
        "trusted": true,
        "hide_input": false,
        "slideshow": {
          "slide_type": "subslide"
        }
      },
      "cell_type": "code",
      "source": [
        "import math\n",
        "import timeit\n",
        "\n",
        "def sieve1(upperLimit=100):\n",
        "    candidates = []\n",
        "    for i in range(upperLimit):\n",
        "        candidates.append(True)\n",
        "    for i in range(2,upperLimit):\n",
        "        for j in range(i*2,upperLimit,i):\n",
        "            candidates[j]=False\n",
        "    return candidates\n",
        "result1 = timeit.timeit(sieve1)"
      ],
      "execution_count": 3,
      "outputs": []
    },
    {
      "metadata": {
        "slideshow": {
          "slide_type": "slide"
        }
      },
      "cell_type": "markdown",
      "source": [
        "## Optimization\n",
        "The code above is quite slow. To improve it, wo don't test until the upper limit, we stop testing when we reach the smallest possible candidate (the square root of the upper limit). \n",
        "\n",
        "The second thought is that you only have to check off values for primes. The other ones are already checked off. e.g. You don't have to check off the multiples of 4 or 6."
      ]
    },
    {
      "metadata": {
        "trusted": true,
        "slideshow": {
          "slide_type": "-"
        }
      },
      "cell_type": "code",
      "source": [
        "def sieve2(upperLimit=100):\n",
        "    candidates = []\n",
        "    for i in range(upperLimit):\n",
        "        candidates.append(True)\n",
        "    lastNumberToCheck = round(math.sqrt(upperLimit))\n",
        "    for i in range (2,lastNumberToCheck):\n",
        "        if (candidates[i]):\n",
        "            for j in range(i*2,upperLimit,i):\n",
        "                candidates[j]=False\n",
        "    return candidates\n",
        "result2 = timeit.timeit(sieve2)"
      ],
      "execution_count": 13,
      "outputs": []
    },
    {
      "metadata": {
        "slideshow": {
          "slide_type": "slide"
        }
      },
      "cell_type": "markdown",
      "source": [
        "## Optimization 2\n",
        "Only do the checks for odd numbers. Even numbers are checked off early."
      ]
    },
    {
      "metadata": {
        "trusted": true,
        "slideshow": {
          "slide_type": "-"
        }
      },
      "cell_type": "code",
      "source": [
        "def sieve3(upperLimit=100):\n",
        "    candidates = []\n",
        "    for i in range(upperLimit):\n",
        "        candidates.append(True)\n",
        "    lastNumberToCheck = round(math.sqrt(upperLimit))\n",
        "    for i in range(4, upperLimit,2):\n",
        "        candidates[i]=False    \n",
        "    for i in range (3,lastNumberToCheck,2):\n",
        "        if (candidates[i]):\n",
        "            for j in range(i*2,upperLimit,i):\n",
        "                candidates[j]=False\n",
        "    return candidates\n",
        "result3 = timeit.timeit(sieve3)"
      ],
      "execution_count": 14,
      "outputs": []
    },
    {
      "metadata": {
        "slideshow": {
          "slide_type": "slide"
        }
      },
      "cell_type": "markdown",
      "source": [
        "## Optimization 3\n",
        "The initialization of the list is now taking about half of the time. Multiplying the list seems to be a lot faster."
      ]
    },
    {
      "metadata": {
        "trusted": true
      },
      "cell_type": "code",
      "source": [
        "def sieve4(upperLimit=100):\n",
        "    candidates = [True]*upperLimit\n",
        "    lastNumberToCheck = round(math.sqrt(upperLimit))\n",
        "    for i in range(4, upperLimit,2):\n",
        "        candidates[i]=False\n",
        "    for i in range (3,lastNumberToCheck,2):\n",
        "        if (candidates[i]):\n",
        "            for j in range(i*2,upperLimit,i):\n",
        "                candidates[j]=False\n",
        "    return candidates\n",
        "result4 = timeit.timeit(sieve4)"
      ],
      "execution_count": 15,
      "outputs": []
    },
    {
      "metadata": {
        "slideshow": {
          "slide_type": "slide"
        }
      },
      "cell_type": "markdown",
      "source": [
        "## Optimization 4\n",
        "Another thought about optimizing can be, that you initialize the list better. Even numbers can be directly initialized with a false value."
      ]
    },
    {
      "metadata": {
        "trusted": true
      },
      "cell_type": "code",
      "source": [
        "def sieve5(upperLimit=100):\n",
        "    candidates = [False,True]*int(upperLimit/2)\n",
        "    lastNumberToCheck = round(math.sqrt(upperLimit))\n",
        "    for i in range (3,lastNumberToCheck,2):\n",
        "        if (candidates[i]):\n",
        "            for j in range(i*2,upperLimit,i):\n",
        "                candidates[j]=False\n",
        "    return candidates\n",
        "result5 = timeit.timeit(sieve5)"
      ],
      "execution_count": 16,
      "outputs": []
    },
    {
      "metadata": {
        "slideshow": {
          "slide_type": "slide"
        }
      },
      "cell_type": "markdown",
      "source": [
        "## Different Algorithm\n",
        "If you think about the implementation of the sieve a little more creatively, you can get a lot of different results.\n",
        "You can also generate a list, which you fill with all of the numbers which are candidates. Then you remove all of the numbers which ware multiples."
      ]
    },
    {
      "metadata": {
        "trusted": true
      },
      "cell_type": "code",
      "source": [
        "def sieve6(upperLimit=100):\n",
        "    primes = []\n",
        "    for i in range(2,upperLimit+1):\n",
        "        primes.append(i)\n",
        "\n",
        "    i = 2\n",
        "\n",
        "    while(i <= int(math.sqrt(upperLimit))):\n",
        "        if i in primes:\n",
        "            for j in range(i*2, upperLimit+1, i):\n",
        "                if j in primes:\n",
        "                    primes.remove(j)\n",
        "        i = i+1\n",
        "    return primes\n",
        "result6 = timeit.timeit(sieve6)"
      ],
      "execution_count": 17,
      "outputs": []
    },
    {
      "metadata": {
        "slideshow": {
          "slide_type": "slide"
        }
      },
      "cell_type": "markdown",
      "source": [
        "## Results\n",
        "Of all the implementations the different implementation is the slowest one. For 100 numbers ```sieve3``` is the fastest implementation, for bigger numbers, ```sieve5``` is the best."
      ]
    },
    {
      "metadata": {
        "slideshow": {
          "slide_type": "skip"
        }
      },
      "cell_type": "markdown",
      "source": [
        "**Exercise**: Put all of the 6 results to a list. Print the best and worst values of the list, show the mean and the median value."
      ]
    },
    {
      "metadata": {
        "trusted": true,
        "tags": []
      },
      "cell_type": "code",
      "source": [
        "print (f\"Original:\\t{result1}\\nOptimization1:\\t{result2}\\nOptimization2:\\t{result3}\\nOptimization3:\\t{result4}\\nOptimization4:\\t{result5}\\nDifferent:\\t{result6}\")"
      ],
      "execution_count": 19,
      "outputs": [
        {
          "output_type": "stream",
          "name": "stdout",
          "text": "Original:\t40.500030044000596\nOptimization1:\t11.804881541989744\nOptimization2:\t11.262735791970044\nOptimization3:\t5.122768176021054\nOptimization4:\t3.745232420042157\nDifferent:\t83.25070385506842\n"
        }
      ]
    },
    {
      "metadata": {
        "trusted": true,
        "slideshow": {
          "slide_type": "notes"
        },
        "tags": []
      },
      "cell_type": "code",
      "source": [
        "%timeit sieve1(1000)\n",
        "%timeit sieve2(1000)\n",
        "%timeit sieve3(1000)\n",
        "%timeit sieve4(1000)\n",
        "%timeit sieve5(1000)\n",
        "%timeit sieve6(1000)"
      ],
      "execution_count": 20,
      "outputs": [
        {
          "output_type": "stream",
          "name": "stdout",
          "text": "520 µs ± 52.3 µs per loop (mean ± std. dev. of 7 runs, 1000 loops each)\n126 µs ± 3.91 µs per loop (mean ± std. dev. of 7 runs, 10000 loops each)\n126 µs ± 2.11 µs per loop (mean ± std. dev. of 7 runs, 10000 loops each)\n71.8 µs ± 5.08 µs per loop (mean ± std. dev. of 7 runs, 10000 loops each)\n48.7 µs ± 4.8 µs per loop (mean ± std. dev. of 7 runs, 10000 loops each)\n7.12 ms ± 216 µs per loop (mean ± std. dev. of 7 runs, 100 loops each)\n"
        }
      ]
    },
    {
      "metadata": {
        "trusted": true,
        "slideshow": {
          "slide_type": "notes"
        },
        "tags": []
      },
      "cell_type": "code",
      "source": [
        "%timeit sieve1(10000)\n",
        "%timeit sieve2(10000)\n",
        "%timeit sieve3(10000)\n",
        "%timeit sieve4(10000)\n",
        "%timeit sieve5(10000)\n",
        "%timeit sieve6(10000)"
      ],
      "execution_count": 22,
      "outputs": [
        {
          "output_type": "stream",
          "name": "stdout",
          "text": "7.87 ms ± 1.33 ms per loop (mean ± std. dev. of 7 runs, 100 loops each)\n1.61 ms ± 113 µs per loop (mean ± std. dev. of 7 runs, 1000 loops each)\n1.67 ms ± 192 µs per loop (mean ± std. dev. of 7 runs, 1000 loops each)\n829 µs ± 57.7 µs per loop (mean ± std. dev. of 7 runs, 1000 loops each)\n672 µs ± 71 µs per loop (mean ± std. dev. of 7 runs, 1000 loops each)\n939 ms ± 140 ms per loop (mean ± std. dev. of 7 runs, 1 loop each)\n"
        }
      ]
    },
    {
      "metadata": {
        "slideshow": {
          "slide_type": "slide"
        }
      },
      "cell_type": "markdown",
      "source": [
        "# Real Live example with public data\n",
        "In this example I got the data from the internet (https://www.europeandataportal.eu/data/datasets/http-opendata-dortmund-de-duva2ckan-1-0-6-files-de-nrw-dortmund-versorgung_mit_energie_und_wasser_seit_1994-61?locale=en). The file is just an example and of no special meaning.\n",
        "\n",
        "Special here is the use of the with statement. This allows us to e.g. access a file and be sure that it is closed after use.\n",
        "\n",
        "The csv module is for reading and writing csv files (no suprise here). Using ```next``` skips the header line, using ```list``` reads in the whole file and transforms it to a list.\n",
        "\n",
        "```sorted```, ```max```and ```int``` you probably still know from the lecture about methods."
      ]
    },
    {
      "metadata": {
        "slideshow": {
          "slide_type": "skip"
        }
      },
      "cell_type": "markdown",
      "source": [
        "**Excercise**: Calculate the median, variance and standard deviation. For an explanation of the last two:\n",
        "\n",
        "https://www.mathsisfun.com/data/standard-deviation.html"
      ]
    },
    {
      "metadata": {
        "trusted": true,
        "slideshow": {
          "slide_type": "subslide"
        },
        "tags": []
      },
      "cell_type": "code",
      "source": [
        "import csv\n",
        "from operator import itemgetter, attrgetter\n",
        "maxerdgas = 0\n",
        "sumerdgas = 0\n",
        "count = 0\n",
        "with open('de-nrw-dortmund-versorgung_mit_energie_und_wasser_seit_1994.csv', 'r', encoding='latin1') as csvfile:\n",
        "    values = csv.reader(csvfile, delimiter=';', quotechar='\"')\n",
        "    next(values)\n",
        "    listValues = list(values)\n",
        "    listValues = sorted(listValues, key=itemgetter(1))\n",
        "    for row in listValues:\n",
        "        print (row[0],\" \", row[1])\n",
        "        currentErdgas = int(row[1])\n",
        "        maxerdgas = max(maxerdgas, currentErdgas)\n",
        "        sumerdgas += currentErdgas\n",
        "        count += 1\n",
        "        \n",
        "print (maxerdgas, sumerdgas, sumerdgas/count)"
      ],
      "execution_count": 2,
      "outputs": [
        {
          "output_type": "stream",
          "name": "stdout",
          "text": "2014   4022\n2009   4462\n2000   4478\n2015   4484\n2011   4485\n2007   4490\n1999   4639\n2012   4672\n2008   4746\n2006   4766\n2001   4803\n1994   4804\n2016   4808\n2017   4838\n2013   4855\n2002   4869\n2005   4882\n1998   4942\n1997   4943\n2010   4980\n1995   5052\n2003   5109\n2004   5152\n1996   5636\n5636 114917 4788.208333333333\n"
        }
      ]
    },
    {
      "cell_type": "markdown",
      "metadata": {},
      "source": [
        "# Video Material\n",
        "|Link|Duration|\n",
        "|----|-----|\n",
        "|[Linkedin Learing Variables and Expressions](https://www.linkedin.com/learning-login/share?account=47996500&forceAccount=false&redirect=https%3A%2F%2Fwww.linkedin.com%2Flearning%2Flearning-python-14393370%2Fvariables-and-expressions%3Ftrk%3Dshare_video_url%26shareId%3Dj2gmqwCzT6q0v8Z8s5dkDg%253D%253D)|11:40|\n",
        "|[Corey Schafer:Lists, Tupels and Sets](https://www.youtube.com/watch?v=W8KRzm-HUcc)|29:05|\n",
        "|[Socratica: Lists](https://www.youtube.com/watch?v=ohCDWZgNIU0)|05:43|"
      ]
    }
  ],
  "metadata": {
    "kernelspec": {
      "name": "python38464bit26ca19d3cc9e464986a11a9d3e4b2f86",
      "display_name": "Python 3.8.4 64-bit",
      "language": "python"
    },
    "language_info": {
      "mimetype": "text/x-python",
      "nbconvert_exporter": "python",
      "name": "python",
      "pygments_lexer": "ipython3",
      "version": "3.8.4-final",
      "file_extension": ".py",
      "codemirror_mode": {
        "version": 3,
        "name": "ipython"
      }
    },
    "varInspector": {
      "window_display": false,
      "cols": {
        "lenName": 16,
        "lenType": 16,
        "lenVar": 40
      },
      "kernels_config": {
        "python": {
          "library": "var_list.py",
          "delete_cmd_prefix": "del ",
          "delete_cmd_postfix": "",
          "varRefreshCmd": "print(var_dic_list())"
        },
        "r": {
          "library": "var_list.r",
          "delete_cmd_prefix": "rm(",
          "delete_cmd_postfix": ") ",
          "varRefreshCmd": "cat(var_dic_list()) "
        }
      },
      "types_to_exclude": [
        "module",
        "function",
        "builtin_function_or_method",
        "instance",
        "_Feature"
      ]
    },
    "celltoolbar": "Slideshow"
  },
  "nbformat": 4,
  "nbformat_minor": 2
}